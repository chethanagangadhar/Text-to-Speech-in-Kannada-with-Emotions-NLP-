{
 "cells": [
  {
   "cell_type": "code",
   "execution_count": 1,
   "id": "14a89a85",
   "metadata": {},
   "outputs": [],
   "source": [
    "import os\n",
    "import pandas as pd\n",
    "import numpy as np\n",
    "import seaborn as sns\n",
    "import pickle"
   ]
  },
  {
   "cell_type": "code",
   "execution_count": 2,
   "id": "3377f3f7",
   "metadata": {},
   "outputs": [
    {
     "data": {
      "text/html": [
       "<div>\n",
       "<style scoped>\n",
       "    .dataframe tbody tr th:only-of-type {\n",
       "        vertical-align: middle;\n",
       "    }\n",
       "\n",
       "    .dataframe tbody tr th {\n",
       "        vertical-align: top;\n",
       "    }\n",
       "\n",
       "    .dataframe thead th {\n",
       "        text-align: right;\n",
       "    }\n",
       "</style>\n",
       "<table border=\"1\" class=\"dataframe\">\n",
       "  <thead>\n",
       "    <tr style=\"text-align: right;\">\n",
       "      <th></th>\n",
       "      <th>Text</th>\n",
       "      <th>Class</th>\n",
       "    </tr>\n",
       "  </thead>\n",
       "  <tbody>\n",
       "    <tr>\n",
       "      <th>0</th>\n",
       "      <td>ಹೋಟೆಲ್ ಕಳಪೆಯಾಗಿ ನಿರ್ವಹಿಸಲ್ಪಟ್ಟಿದೆ</td>\n",
       "      <td>0</td>\n",
       "    </tr>\n",
       "    <tr>\n",
       "      <th>1</th>\n",
       "      <td>ಅವರು ಕೆಟ್ಟ ಸೇವೆಯನ್ನು ನೀಡಿದರು</td>\n",
       "      <td>0</td>\n",
       "    </tr>\n",
       "    <tr>\n",
       "      <th>2</th>\n",
       "      <td>ಕ್ಯಾಬ್‌ನ ಒಳಭಾಗವನ್ನು ಸರಿಯಾಗಿ ನಿರ್ವಹಿಸಲಾಗಿಲ್ಲ</td>\n",
       "      <td>0</td>\n",
       "    </tr>\n",
       "    <tr>\n",
       "      <th>3</th>\n",
       "      <td>ಕ್ಯಾಬ್ ಒಳಭಾಗ ಕೊಳಕು</td>\n",
       "      <td>0</td>\n",
       "    </tr>\n",
       "    <tr>\n",
       "      <th>4</th>\n",
       "      <td>ನಾವು ಅಗ್ಗದ ವಿಮಾನವನ್ನು ಬುಕ್ ಮಾಡಬಹುದಿತ್ತು</td>\n",
       "      <td>0</td>\n",
       "    </tr>\n",
       "  </tbody>\n",
       "</table>\n",
       "</div>"
      ],
      "text/plain": [
       "                                          Text  Class\n",
       "0            ಹೋಟೆಲ್ ಕಳಪೆಯಾಗಿ ನಿರ್ವಹಿಸಲ್ಪಟ್ಟಿದೆ      0\n",
       "1                 ಅವರು ಕೆಟ್ಟ ಸೇವೆಯನ್ನು ನೀಡಿದರು      0\n",
       "2  ಕ್ಯಾಬ್‌ನ ಒಳಭಾಗವನ್ನು ಸರಿಯಾಗಿ ನಿರ್ವಹಿಸಲಾಗಿಲ್ಲ      0\n",
       "3                           ಕ್ಯಾಬ್ ಒಳಭಾಗ ಕೊಳಕು      0\n",
       "4      ನಾವು ಅಗ್ಗದ ವಿಮಾನವನ್ನು ಬುಕ್ ಮಾಡಬಹುದಿತ್ತು      0"
      ]
     },
     "execution_count": 2,
     "metadata": {},
     "output_type": "execute_result"
    }
   ],
   "source": [
    "df = pd.read_csv(r\"C:\\Users\\Chethana\\Desktop\\NLP\\emo_ds_7.csv\")\n",
    "df.head()"
   ]
  },
  {
   "cell_type": "code",
   "execution_count": 3,
   "id": "8bb77152",
   "metadata": {},
   "outputs": [
    {
     "data": {
      "text/plain": [
       "Class\n",
       "0    402\n",
       "1    385\n",
       "2    392\n",
       "3    392\n",
       "Name: Class, dtype: int64"
      ]
     },
     "execution_count": 3,
     "metadata": {},
     "output_type": "execute_result"
    }
   ],
   "source": [
    "df.groupby('Class').Class.count()"
   ]
  },
  {
   "cell_type": "code",
   "execution_count": 4,
   "id": "52773949",
   "metadata": {},
   "outputs": [
    {
     "name": "stderr",
     "output_type": "stream",
     "text": [
      "C:\\Users\\Chethana\\anaconda3\\lib\\site-packages\\seaborn\\_decorators.py:36: FutureWarning: Pass the following variable as a keyword arg: x. From version 0.12, the only valid positional argument will be `data`, and passing other arguments without an explicit keyword will result in an error or misinterpretation.\n",
      "  warnings.warn(\n"
     ]
    },
    {
     "data": {
      "text/plain": [
       "<AxesSubplot:xlabel='Class', ylabel='count'>"
      ]
     },
     "execution_count": 4,
     "metadata": {},
     "output_type": "execute_result"
    },
    {
     "data": {
      "image/png": "[encoded data removed]",
      "text/plain": [
       "<Figure size 640x480 with 1 Axes>"
      ]
     },
     "metadata": {},
     "output_type": "display_data"
    }
   ],
   "source": [
    "sns.countplot(df['Class'])"
   ]
  },
  {
   "cell_type": "code",
   "execution_count": 5,
   "id": "5e8e3d08",
   "metadata": {},
   "outputs": [],
   "source": [
    "X = df['Text']\n",
    "y = df['Class']"
   ]
  },
  {
   "cell_type": "code",
   "execution_count": 6,
   "id": "02bdff70",
   "metadata": {},
   "outputs": [
    {
     "data": {
      "text/html": [
       "<div>\n",
       "<style scoped>\n",
       "    .dataframe tbody tr th:only-of-type {\n",
       "        vertical-align: middle;\n",
       "    }\n",
       "\n",
       "    .dataframe tbody tr th {\n",
       "        vertical-align: top;\n",
       "    }\n",
       "\n",
       "    .dataframe thead th {\n",
       "        text-align: right;\n",
       "    }\n",
       "</style>\n",
       "<table border=\"1\" class=\"dataframe\">\n",
       "  <thead>\n",
       "    <tr style=\"text-align: right;\">\n",
       "      <th></th>\n",
       "      <th>Text</th>\n",
       "      <th>Class</th>\n",
       "    </tr>\n",
       "  </thead>\n",
       "  <tbody>\n",
       "    <tr>\n",
       "      <th>0</th>\n",
       "      <td>ಹೋಟೆಲ್ ಕಳಪೆಯಾಗಿ ನಿರ್ವಹಿಸಲ್ಪಟ್ಟಿದೆ</td>\n",
       "      <td>0</td>\n",
       "    </tr>\n",
       "    <tr>\n",
       "      <th>1</th>\n",
       "      <td>ಇದು ಸರಿಯಾಗಿ ಕೆಲಸ ಮಾಡುತ್ತಿಲ್ಲ</td>\n",
       "      <td>0</td>\n",
       "    </tr>\n",
       "    <tr>\n",
       "      <th>2</th>\n",
       "      <td>ನನ್ನ ಅದೃಷ್ಟ ಚೆನ್ನಾಗಿಲ್ಲ</td>\n",
       "      <td>0</td>\n",
       "    </tr>\n",
       "    <tr>\n",
       "      <th>3</th>\n",
       "      <td>ನಮಗೆ ತುಂಬಾ ಕೆಟ್ಟ ಅನುಭವವಾಗಿದೆ</td>\n",
       "      <td>0</td>\n",
       "    </tr>\n",
       "    <tr>\n",
       "      <th>4</th>\n",
       "      <td>ನೀನು ನಿಷ್ಪ್ರಯೋಜಕ</td>\n",
       "      <td>0</td>\n",
       "    </tr>\n",
       "  </tbody>\n",
       "</table>\n",
       "</div>"
      ],
      "text/plain": [
       "                                Text  Class\n",
       "0  ಹೋಟೆಲ್ ಕಳಪೆಯಾಗಿ ನಿರ್ವಹಿಸಲ್ಪಟ್ಟಿದೆ      0\n",
       "1       ಇದು ಸರಿಯಾಗಿ ಕೆಲಸ ಮಾಡುತ್ತಿಲ್ಲ      0\n",
       "2            ನನ್ನ ಅದೃಷ್ಟ ಚೆನ್ನಾಗಿಲ್ಲ      0\n",
       "3       ನಮಗೆ ತುಂಬಾ ಕೆಟ್ಟ ಅನುಭವವಾಗಿದೆ      0\n",
       "4                   ನೀನು ನಿಷ್ಪ್ರಯೋಜಕ      0"
      ]
     },
     "execution_count": 6,
     "metadata": {},
     "output_type": "execute_result"
    }
   ],
   "source": [
    "ds = pd.read_csv(r\"C:\\Users\\Chethana\\Desktop\\NLP\\emo_ds_7_test.csv\")\n",
    "ds.head()"
   ]
  },
  {
   "cell_type": "code",
   "execution_count": 7,
   "id": "32199272",
   "metadata": {},
   "outputs": [
    {
     "data": {
      "text/plain": [
       "Class\n",
       "0    74\n",
       "1    78\n",
       "2    83\n",
       "3    75\n",
       "Name: Class, dtype: int64"
      ]
     },
     "execution_count": 7,
     "metadata": {},
     "output_type": "execute_result"
    }
   ],
   "source": [
    "ds.groupby('Class').Class.count()\n",
    "#0-angry \n",
    "#1-happy \n",
    "#2-neutral\n",
    "#3-sad"
   ]
  },
  {
   "cell_type": "code",
   "execution_count": 8,
   "id": "bf0ced27",
   "metadata": {},
   "outputs": [],
   "source": [
    "X_train=X\n",
    "y_train=y\n",
    "\n",
    "X_test=ds['Text']\n",
    "y_test=ds['Class']"
   ]
  },
  {
   "cell_type": "code",
   "execution_count": 9,
   "id": "4eca5629",
   "metadata": {},
   "outputs": [
    {
     "data": {
      "text/plain": [
       "1571"
      ]
     },
     "execution_count": 9,
     "metadata": {},
     "output_type": "execute_result"
    }
   ],
   "source": [
    "len(X_train)"
   ]
  },
  {
   "cell_type": "code",
   "execution_count": 10,
   "id": "779da4f5",
   "metadata": {},
   "outputs": [
    {
     "data": {
      "text/plain": [
       "0                       ಹೋಟೆಲ್ ಕಳಪೆಯಾಗಿ ನಿರ್ವಹಿಸಲ್ಪಟ್ಟಿದೆ\n",
       "1                            ಅವರು ಕೆಟ್ಟ ಸೇವೆಯನ್ನು ನೀಡಿದರು\n",
       "2             ಕ್ಯಾಬ್‌ನ ಒಳಭಾಗವನ್ನು ಸರಿಯಾಗಿ ನಿರ್ವಹಿಸಲಾಗಿಲ್ಲ\n",
       "3                                      ಕ್ಯಾಬ್ ಒಳಭಾಗ ಕೊಳಕು\n",
       "4                 ನಾವು ಅಗ್ಗದ ವಿಮಾನವನ್ನು ಬುಕ್ ಮಾಡಬಹುದಿತ್ತು\n",
       "                              ...                        \n",
       "1566         ಅವನ ತಂದೆಯ ಕೋಪದ ದನಿಯು ಕಪಾಳಮೋಕ್ಷದಿಂದ ಕೂಡಿತ್ತು.\n",
       "1567    ಆಗ ಒಬ್ಬ ತೆಳ್ಳಗಿನ, ಮಸುಕಾದ ಸೈನಿಕನು, ಅವನ ಕುತ್ತಿಗೆ...\n",
       "1568              ಅವಳ ಕಣ್ಣುಗಳು ಕೋಪಗೊಂಡ ಮೋಡಗಳ ಕಡೆಗೆ ಹೋದವು.\n",
       "1569    ಅವನಿಗೆ ಒಂದು ನಿಮಿಷ ಕೋಪ ಮತ್ತು ಮರುಕ್ಷಣ ತಮಾಷೆ ಮಾಡಿ...\n",
       "1570    ಅವನ ದೇಹವು ಕೋಪಗೊಂಡ ಶಕ್ತಿಯಿಂದ ಅಲೆಯುತ್ತಿತ್ತು, ಅದು...\n",
       "Name: Text, Length: 1571, dtype: object"
      ]
     },
     "execution_count": 10,
     "metadata": {},
     "output_type": "execute_result"
    }
   ],
   "source": [
    "X_train"
   ]
  },
  {
   "cell_type": "code",
   "execution_count": 11,
   "id": "671508cc",
   "metadata": {},
   "outputs": [
    {
     "data": {
      "text/plain": [
       "310"
      ]
     },
     "execution_count": 11,
     "metadata": {},
     "output_type": "execute_result"
    }
   ],
   "source": [
    "len(X_test)"
   ]
  },
  {
   "cell_type": "code",
   "execution_count": 12,
   "id": "fd09cd88",
   "metadata": {},
   "outputs": [
    {
     "data": {
      "text/plain": [
       "0                      ಹೋಟೆಲ್ ಕಳಪೆಯಾಗಿ ನಿರ್ವಹಿಸಲ್ಪಟ್ಟಿದೆ\n",
       "1                           ಇದು ಸರಿಯಾಗಿ ಕೆಲಸ ಮಾಡುತ್ತಿಲ್ಲ\n",
       "2                                ನನ್ನ ಅದೃಷ್ಟ ಚೆನ್ನಾಗಿಲ್ಲ\n",
       "3                           ನಮಗೆ ತುಂಬಾ ಕೆಟ್ಟ ಅನುಭವವಾಗಿದೆ\n",
       "4                                       ನೀನು ನಿಷ್ಪ್ರಯೋಜಕ\n",
       "                             ...                        \n",
       "305    ನಾನು ತಡರಾತ್ರಿಯಲ್ಲಿ ಕೆಲಸ ಮಾಡುವುದನ್ನು ದ್ವೇಷಿಸುತ್...\n",
       "306    ಈ ಹಾಡು ಎಷ್ಟು ದುಃಖಕರವಾಗಿದೆಯೆಂದರೆ ನನ್ನ ಏಳು ವರ್ಷದ...\n",
       "307     ನಾನು ಈಗಾಗಲೇ ಶಾಲೆಯ ಕೆಲಸದಿಂದ ತುಂಬಾ ಆಯಾಸಗೊಂಡಿದ್ದೇನೆ\n",
       "308    ಕಾಲೇಜು ದಿನಗಳು ಹೆಚ್ಚು ಖುಷಿಯಾಗಿರಬೇಕೆಂದು ನಾನು ಬಯಸ...\n",
       "309    ನನಗೆ ತುಂಬ ಬೇಜಾರಾಗಿದೆ. ನನ್ನ ಒಡಹುಟ್ಟಿದವರು ಪಾರ್ಟ...\n",
       "Name: Text, Length: 310, dtype: object"
      ]
     },
     "execution_count": 12,
     "metadata": {},
     "output_type": "execute_result"
    }
   ],
   "source": [
    "X_test"
   ]
  },
  {
   "cell_type": "code",
   "execution_count": 13,
   "id": "cf837228",
   "metadata": {},
   "outputs": [
    {
     "data": {
      "text/plain": [
       "pandas.core.series.Series"
      ]
     },
     "execution_count": 13,
     "metadata": {},
     "output_type": "execute_result"
    }
   ],
   "source": [
    "type(y_train)"
   ]
  },
  {
   "cell_type": "code",
   "execution_count": 14,
   "id": "bcc7be18",
   "metadata": {},
   "outputs": [],
   "source": [
    "stop_words = ['',' ','.','ಈ','ಆದರೆ','ಎಂದು','ಅವರ','ಮತ್ತು','ಎಂಬ','ಅವರು','ಒಂದು','ಬಗ್ಗೆ','ಆ','ಇದೆ','ಇದು','ನಾನು','ಮೂಲಕ','ನನ್ನ','ಅದು','ಮೇಲೆ','ಈಗ','ಹಾಗೂ','ಇಲ್ಲ','ಮೊದಲ','ನನಗೆ','ಹೆಚ್ಚು','ಅವರಿಗೆ','ತಮ್ಮ','ಮಾಡಿ','ನಮ್ಮ','ಮಾತ್ರ','ದೊಡ್ಡ','ಅದೇ','ಕೂಡ','ಸಿನಿಮಾ','ಯಾವುದೇ','ಯಾವ','ಆಗ','ತುಂಬಾ','ನಾವು','ದಿನ','ಬೇರೆ','ಅವರನ್ನು','ಎಲ್ಲಾ','ನೀವು','ಸಾಕಷ್ಟು','ಕನ್ನಡ','ಹೊಸ','ಮುಂದೆ','ಹೇಗೆ','ನಂತರ','ಇಲ್ಲಿ','ಕೆಲಸ','ಅಲ್ಲ','ಬಳಿಕ','ಒಳ್ಳೆಯ','ಹಾಗಾಗಿ','ಒಂದೇ','ಜನ','ಅದನ್ನು','ಬಂದ','ಕಾರಣ','ಅವಕಾಶ','ವರ್ಷ','ನಿಮ್ಮ','ಇತ್ತು','ಚಿತ್ರ','ಹೇಳಿ','ಮಾಡಿದ','ಅದಕ್ಕೆ','ಆಗಿ','ಎಂಬುದು','ಅಂತ','2','ಕೆಲವು','ಮೊದಲು','ಬಂದು','ಇದೇ','ನೋಡಿ','ಕೇವಲ','ಎರಡು','ಇನ್ನು','ಅಷ್ಟೇ','ಎಷ್ಟು','ಚಿತ್ರದ','ಮಾಡಬೇಕು','ಹೀಗೆ','ಕುರಿತು','5','ಉತ್ತರ','ಎಂದರೆ','ಇನ್ನೂ','ಮತ್ತೆ','ಏನು','ಪಾತ್ರ','ಮುಂದಿನ','ಸಂದರ್ಭದಲ್ಲಿ','ಮಾಡುವ','ವೇಳೆ','ನನ್ನನ್ನು','ಮೂರು','ಅಥವಾ','ಜೊತೆಗೆ','ಹೆಸರು','ಚಿತ್ರದಲ್ಲಿ']\n",
    "#stop_words"
   ]
  },
  {
   "cell_type": "code",
   "execution_count": 15,
   "id": "411fc183",
   "metadata": {},
   "outputs": [
    {
     "data": {
      "text/plain": [
       "105"
      ]
     },
     "execution_count": 15,
     "metadata": {},
     "output_type": "execute_result"
    }
   ],
   "source": [
    "len(stop_words)"
   ]
  },
  {
   "cell_type": "code",
   "execution_count": 16,
   "id": "060cbdc0",
   "metadata": {},
   "outputs": [],
   "source": [
    "#Using CountVectorizer to produce sparse representation of data:"
   ]
  },
  {
   "cell_type": "code",
   "execution_count": 17,
   "id": "494f2014",
   "metadata": {},
   "outputs": [
    {
     "name": "stderr",
     "output_type": "stream",
     "text": [
      "C:\\Users\\Chethana\\anaconda3\\lib\\site-packages\\sklearn\\feature_extraction\\text.py:521: UserWarning: The parameter 'token_pattern' will not be used since 'tokenizer' is not None'\n",
      "  warnings.warn(\n"
     ]
    }
   ],
   "source": [
    "def my_tokenizer(s):\n",
    "    return s.split(' ')\n",
    "\n",
    "from sklearn.feature_extraction.text import CountVectorizer\n",
    "vect = CountVectorizer(min_df=2, ngram_range=(1, 3), encoding='ISCII',tokenizer=my_tokenizer,stop_words=stop_words).fit(X_train)"
   ]
  },
  {
   "cell_type": "code",
   "execution_count": 18,
   "id": "e57dde5a",
   "metadata": {},
   "outputs": [
    {
     "ename": "AttributeError",
     "evalue": "'CountVectorizer' object has no attribute 'get_feature_names'",
     "output_type": "error",
     "traceback": [
      "\u001b[1;31m---------------------------------------------------------------------------\u001b[0m",
      "\u001b[1;31mAttributeError\u001b[0m                            Traceback (most recent call last)",
      "\u001b[1;32m~\\AppData\\Local\\Temp\\ipykernel_15028\\2139883209.py\u001b[0m in \u001b[0;36m<module>\u001b[1;34m\u001b[0m\n\u001b[1;32m----> 1\u001b[1;33m \u001b[0mprint\u001b[0m\u001b[1;33m(\u001b[0m\u001b[0mlen\u001b[0m\u001b[1;33m(\u001b[0m\u001b[0mvect\u001b[0m\u001b[1;33m.\u001b[0m\u001b[0mget_feature_names\u001b[0m\u001b[1;33m(\u001b[0m\u001b[1;33m)\u001b[0m\u001b[1;33m)\u001b[0m\u001b[1;33m)\u001b[0m\u001b[1;33m\u001b[0m\u001b[1;33m\u001b[0m\u001b[0m\n\u001b[0m",
      "\u001b[1;31mAttributeError\u001b[0m: 'CountVectorizer' object has no attribute 'get_feature_names'"
     ]
    }
   ],
   "source": [
    "print(len(vect.get_feature_names())) "
   ]
  },
  {
   "cell_type": "code",
   "execution_count": 19,
   "id": "7dbc2886",
   "metadata": {},
   "outputs": [
    {
     "ename": "AttributeError",
     "evalue": "'CountVectorizer' object has no attribute 'get_feature_names'",
     "output_type": "error",
     "traceback": [
      "\u001b[1;31m---------------------------------------------------------------------------\u001b[0m",
      "\u001b[1;31mAttributeError\u001b[0m                            Traceback (most recent call last)",
      "\u001b[1;32m~\\AppData\\Local\\Temp\\ipykernel_15028\\2575828237.py\u001b[0m in \u001b[0;36m<module>\u001b[1;34m\u001b[0m\n\u001b[1;32m----> 1\u001b[1;33m \u001b[0mvect\u001b[0m\u001b[1;33m.\u001b[0m\u001b[0mget_feature_names\u001b[0m\u001b[1;33m(\u001b[0m\u001b[1;33m)\u001b[0m\u001b[1;33m\u001b[0m\u001b[1;33m\u001b[0m\u001b[0m\n\u001b[0m",
      "\u001b[1;31mAttributeError\u001b[0m: 'CountVectorizer' object has no attribute 'get_feature_names'"
     ]
    }
   ],
   "source": [
    "vect.get_feature_names() "
   ]
  },
  {
   "cell_type": "code",
   "execution_count": 20,
   "id": "6e8a066d",
   "metadata": {},
   "outputs": [
    {
     "data": {
      "text/plain": [
       "<1571x1335 sparse matrix of type '<class 'numpy.int64'>'\n",
       "\twith 4830 stored elements in Compressed Sparse Row format>"
      ]
     },
     "execution_count": 20,
     "metadata": {},
     "output_type": "execute_result"
    }
   ],
   "source": [
    "X_train_vectorized = vect.transform(X_train)    \n",
    "X_train_vectorized"
   ]
  },
  {
   "cell_type": "code",
   "execution_count": 21,
   "id": "8f55d0d3",
   "metadata": {},
   "outputs": [
    {
     "data": {
      "text/plain": [
       "(1571, 1335)"
      ]
     },
     "execution_count": 21,
     "metadata": {},
     "output_type": "execute_result"
    }
   ],
   "source": [
    "X_train_vectorized.shape"
   ]
  },
  {
   "cell_type": "code",
   "execution_count": 22,
   "id": "df0d25c2",
   "metadata": {},
   "outputs": [],
   "source": [
    "#Multinomial Logistic Regression"
   ]
  },
  {
   "cell_type": "code",
   "execution_count": 23,
   "id": "3e669e17",
   "metadata": {},
   "outputs": [
    {
     "name": "stderr",
     "output_type": "stream",
     "text": [
      "C:\\Users\\Chethana\\anaconda3\\lib\\site-packages\\sklearn\\linear_model\\_logistic.py:1247: FutureWarning: 'multi_class' was deprecated in version 1.5 and will be removed in 1.7. From then on, it will always use 'multinomial'. Leave it to its default value to avoid this warning.\n",
      "  warnings.warn(\n"
     ]
    },
    {
     "data": {
      "text/html": [
       "<style>#sk-container-id-1 {\n",
       "  /* Definition of color scheme common for light and dark mode */\n",
       "  --sklearn-color-text: black;\n",
       "  --sklearn-color-line: gray;\n",
       "  /* Definition of color scheme for unfitted estimators */\n",
       "  --sklearn-color-unfitted-level-0: #fff5e6;\n",
       "  --sklearn-color-unfitted-level-1: #f6e4d2;\n",
       "  --sklearn-color-unfitted-level-2: #ffe0b3;\n",
       "  --sklearn-color-unfitted-level-3: chocolate;\n",
       "  /* Definition of color scheme for fitted estimators */\n",
       "  --sklearn-color-fitted-level-0: #f0f8ff;\n",
       "  --sklearn-color-fitted-level-1: #d4ebff;\n",
       "  --sklearn-color-fitted-level-2: #b3dbfd;\n",
       "  --sklearn-color-fitted-level-3: cornflowerblue;\n",
       "\n",
       "  /* Specific color for light theme */\n",
       "  --sklearn-color-text-on-default-background: var(--sg-text-color, var(--theme-code-foreground, var(--jp-content-font-color1, black)));\n",
       "  --sklearn-color-background: var(--sg-background-color, var(--theme-background, var(--jp-layout-color0, white)));\n",
       "  --sklearn-color-border-box: var(--sg-text-color, var(--theme-code-foreground, var(--jp-content-font-color1, black)));\n",
       "  --sklearn-color-icon: #696969;\n",
       "\n",
       "  @media (prefers-color-scheme: dark) {\n",
       "    /* Redefinition of color scheme for dark theme */\n",
       "    --sklearn-color-text-on-default-background: var(--sg-text-color, var(--theme-code-foreground, var(--jp-content-font-color1, white)));\n",
       "    --sklearn-color-background: var(--sg-background-color, var(--theme-background, var(--jp-layout-color0, #111)));\n",
       "    --sklearn-color-border-box: var(--sg-text-color, var(--theme-code-foreground, var(--jp-content-font-color1, white)));\n",
       "    --sklearn-color-icon: #878787;\n",
       "  }\n",
       "}\n",
       "\n",
       "#sk-container-id-1 {\n",
       "  color: var(--sklearn-color-text);\n",
       "}\n",
       "\n",
       "#sk-container-id-1 pre {\n",
       "  padding: 0;\n",
       "}\n",
       "\n",
       "#sk-container-id-1 input.sk-hidden--visually {\n",
       "  border: 0;\n",
       "  clip: rect(1px 1px 1px 1px);\n",
       "  clip: rect(1px, 1px, 1px, 1px);\n",
       "  height: 1px;\n",
       "  margin: -1px;\n",
       "  overflow: hidden;\n",
       "  padding: 0;\n",
       "  position: absolute;\n",
       "  width: 1px;\n",
       "}\n",
       "\n",
       "#sk-container-id-1 div.sk-dashed-wrapped {\n",
       "  border: 1px dashed var(--sklearn-color-line);\n",
       "  margin: 0 0.4em 0.5em 0.4em;\n",
       "  box-sizing: border-box;\n",
       "  padding-bottom: 0.4em;\n",
       "  background-color: var(--sklearn-color-background);\n",
       "}\n",
       "\n",
       "#sk-container-id-1 div.sk-container {\n",
       "  /* jupyter's `normalize.less` sets `[hidden] { display: none; }`\n",
       "     but bootstrap.min.css set `[hidden] { display: none !important; }`\n",
       "     so we also need the `!important` here to be able to override the\n",
       "     default hidden behavior on the sphinx rendered scikit-learn.org.\n",
       "     See: https://github.com/scikit-learn/scikit-learn/issues/21755 */\n",
       "  display: inline-block !important;\n",
       "  position: relative;\n",
       "}\n",
       "\n",
       "#sk-container-id-1 div.sk-text-repr-fallback {\n",
       "  display: none;\n",
       "}\n",
       "\n",
       "div.sk-parallel-item,\n",
       "div.sk-serial,\n",
       "div.sk-item {\n",
       "  /* draw centered vertical line to link estimators */\n",
       "  background-image: linear-gradient(var(--sklearn-color-text-on-default-background), var(--sklearn-color-text-on-default-background));\n",
       "  background-size: 2px 100%;\n",
       "  background-repeat: no-repeat;\n",
       "  background-position: center center;\n",
       "}\n",
       "\n",
       "/* Parallel-specific style estimator block */\n",
       "\n",
       "#sk-container-id-1 div.sk-parallel-item::after {\n",
       "  content: \"\";\n",
       "  width: 100%;\n",
       "  border-bottom: 2px solid var(--sklearn-color-text-on-default-background);\n",
       "  flex-grow: 1;\n",
       "}\n",
       "\n",
       "#sk-container-id-1 div.sk-parallel {\n",
       "  display: flex;\n",
       "  align-items: stretch;\n",
       "  justify-content: center;\n",
       "  background-color: var(--sklearn-color-background);\n",
       "  position: relative;\n",
       "}\n",
       "\n",
       "#sk-container-id-1 div.sk-parallel-item {\n",
       "  display: flex;\n",
       "  flex-direction: column;\n",
       "}\n",
       "\n",
       "#sk-container-id-1 div.sk-parallel-item:first-child::after {\n",
       "  align-self: flex-end;\n",
       "  width: 50%;\n",
       "}\n",
       "\n",
       "#sk-container-id-1 div.sk-parallel-item:last-child::after {\n",
       "  align-self: flex-start;\n",
       "  width: 50%;\n",
       "}\n",
       "\n",
       "#sk-container-id-1 div.sk-parallel-item:only-child::after {\n",
       "  width: 0;\n",
       "}\n",
       "\n",
       "/* Serial-specific style estimator block */\n",
       "\n",
       "#sk-container-id-1 div.sk-serial {\n",
       "  display: flex;\n",
       "  flex-direction: column;\n",
       "  align-items: center;\n",
       "  background-color: var(--sklearn-color-background);\n",
       "  padding-right: 1em;\n",
       "  padding-left: 1em;\n",
       "}\n",
       "\n",
       "\n",
       "/* Toggleable style: style used for estimator/Pipeline/ColumnTransformer box that is\n",
       "clickable and can be expanded/collapsed.\n",
       "- Pipeline and ColumnTransformer use this feature and define the default style\n",
       "- Estimators will overwrite some part of the style using the `sk-estimator` class\n",
       "*/\n",
       "\n",
       "/* Pipeline and ColumnTransformer style (default) */\n",
       "\n",
       "#sk-container-id-1 div.sk-toggleable {\n",
       "  /* Default theme specific background. It is overwritten whether we have a\n",
       "  specific estimator or a Pipeline/ColumnTransformer */\n",
       "  background-color: var(--sklearn-color-background);\n",
       "}\n",
       "\n",
       "/* Toggleable label */\n",
       "#sk-container-id-1 label.sk-toggleable__label {\n",
       "  cursor: pointer;\n",
       "  display: block;\n",
       "  width: 100%;\n",
       "  margin-bottom: 0;\n",
       "  padding: 0.5em;\n",
       "  box-sizing: border-box;\n",
       "  text-align: center;\n",
       "}\n",
       "\n",
       "#sk-container-id-1 label.sk-toggleable__label-arrow:before {\n",
       "  /* Arrow on the left of the label */\n",
       "  content: \"▸\";\n",
       "  float: left;\n",
       "  margin-right: 0.25em;\n",
       "  color: var(--sklearn-color-icon);\n",
       "}\n",
       "\n",
       "#sk-container-id-1 label.sk-toggleable__label-arrow:hover:before {\n",
       "  color: var(--sklearn-color-text);\n",
       "}\n",
       "\n",
       "/* Toggleable content - dropdown */\n",
       "\n",
       "#sk-container-id-1 div.sk-toggleable__content {\n",
       "  max-height: 0;\n",
       "  max-width: 0;\n",
       "  overflow: hidden;\n",
       "  text-align: left;\n",
       "  /* unfitted */\n",
       "  background-color: var(--sklearn-color-unfitted-level-0);\n",
       "}\n",
       "\n",
       "#sk-container-id-1 div.sk-toggleable__content.fitted {\n",
       "  /* fitted */\n",
       "  background-color: var(--sklearn-color-fitted-level-0);\n",
       "}\n",
       "\n",
       "#sk-container-id-1 div.sk-toggleable__content pre {\n",
       "  margin: 0.2em;\n",
       "  border-radius: 0.25em;\n",
       "  color: var(--sklearn-color-text);\n",
       "  /* unfitted */\n",
       "  background-color: var(--sklearn-color-unfitted-level-0);\n",
       "}\n",
       "\n",
       "#sk-container-id-1 div.sk-toggleable__content.fitted pre {\n",
       "  /* unfitted */\n",
       "  background-color: var(--sklearn-color-fitted-level-0);\n",
       "}\n",
       "\n",
       "#sk-container-id-1 input.sk-toggleable__control:checked~div.sk-toggleable__content {\n",
       "  /* Expand drop-down */\n",
       "  max-height: 200px;\n",
       "  max-width: 100%;\n",
       "  overflow: auto;\n",
       "}\n",
       "\n",
       "#sk-container-id-1 input.sk-toggleable__control:checked~label.sk-toggleable__label-arrow:before {\n",
       "  content: \"▾\";\n",
       "}\n",
       "\n",
       "/* Pipeline/ColumnTransformer-specific style */\n",
       "\n",
       "#sk-container-id-1 div.sk-label input.sk-toggleable__control:checked~label.sk-toggleable__label {\n",
       "  color: var(--sklearn-color-text);\n",
       "  background-color: var(--sklearn-color-unfitted-level-2);\n",
       "}\n",
       "\n",
       "#sk-container-id-1 div.sk-label.fitted input.sk-toggleable__control:checked~label.sk-toggleable__label {\n",
       "  background-color: var(--sklearn-color-fitted-level-2);\n",
       "}\n",
       "\n",
       "/* Estimator-specific style */\n",
       "\n",
       "/* Colorize estimator box */\n",
       "#sk-container-id-1 div.sk-estimator input.sk-toggleable__control:checked~label.sk-toggleable__label {\n",
       "  /* unfitted */\n",
       "  background-color: var(--sklearn-color-unfitted-level-2);\n",
       "}\n",
       "\n",
       "#sk-container-id-1 div.sk-estimator.fitted input.sk-toggleable__control:checked~label.sk-toggleable__label {\n",
       "  /* fitted */\n",
       "  background-color: var(--sklearn-color-fitted-level-2);\n",
       "}\n",
       "\n",
       "#sk-container-id-1 div.sk-label label.sk-toggleable__label,\n",
       "#sk-container-id-1 div.sk-label label {\n",
       "  /* The background is the default theme color */\n",
       "  color: var(--sklearn-color-text-on-default-background);\n",
       "}\n",
       "\n",
       "/* On hover, darken the color of the background */\n",
       "#sk-container-id-1 div.sk-label:hover label.sk-toggleable__label {\n",
       "  color: var(--sklearn-color-text);\n",
       "  background-color: var(--sklearn-color-unfitted-level-2);\n",
       "}\n",
       "\n",
       "/* Label box, darken color on hover, fitted */\n",
       "#sk-container-id-1 div.sk-label.fitted:hover label.sk-toggleable__label.fitted {\n",
       "  color: var(--sklearn-color-text);\n",
       "  background-color: var(--sklearn-color-fitted-level-2);\n",
       "}\n",
       "\n",
       "/* Estimator label */\n",
       "\n",
       "#sk-container-id-1 div.sk-label label {\n",
       "  font-family: monospace;\n",
       "  font-weight: bold;\n",
       "  display: inline-block;\n",
       "  line-height: 1.2em;\n",
       "}\n",
       "\n",
       "#sk-container-id-1 div.sk-label-container {\n",
       "  text-align: center;\n",
       "}\n",
       "\n",
       "/* Estimator-specific */\n",
       "#sk-container-id-1 div.sk-estimator {\n",
       "  font-family: monospace;\n",
       "  border: 1px dotted var(--sklearn-color-border-box);\n",
       "  border-radius: 0.25em;\n",
       "  box-sizing: border-box;\n",
       "  margin-bottom: 0.5em;\n",
       "  /* unfitted */\n",
       "  background-color: var(--sklearn-color-unfitted-level-0);\n",
       "}\n",
       "\n",
       "#sk-container-id-1 div.sk-estimator.fitted {\n",
       "  /* fitted */\n",
       "  background-color: var(--sklearn-color-fitted-level-0);\n",
       "}\n",
       "\n",
       "/* on hover */\n",
       "#sk-container-id-1 div.sk-estimator:hover {\n",
       "  /* unfitted */\n",
       "  background-color: var(--sklearn-color-unfitted-level-2);\n",
       "}\n",
       "\n",
       "#sk-container-id-1 div.sk-estimator.fitted:hover {\n",
       "  /* fitted */\n",
       "  background-color: var(--sklearn-color-fitted-level-2);\n",
       "}\n",
       "\n",
       "/* Specification for estimator info (e.g. \"i\" and \"?\") */\n",
       "\n",
       "/* Common style for \"i\" and \"?\" */\n",
       "\n",
       ".sk-estimator-doc-link,\n",
       "a:link.sk-estimator-doc-link,\n",
       "a:visited.sk-estimator-doc-link {\n",
       "  float: right;\n",
       "  font-size: smaller;\n",
       "  line-height: 1em;\n",
       "  font-family: monospace;\n",
       "  background-color: var(--sklearn-color-background);\n",
       "  border-radius: 1em;\n",
       "  height: 1em;\n",
       "  width: 1em;\n",
       "  text-decoration: none !important;\n",
       "  margin-left: 1ex;\n",
       "  /* unfitted */\n",
       "  border: var(--sklearn-color-unfitted-level-1) 1pt solid;\n",
       "  color: var(--sklearn-color-unfitted-level-1);\n",
       "}\n",
       "\n",
       ".sk-estimator-doc-link.fitted,\n",
       "a:link.sk-estimator-doc-link.fitted,\n",
       "a:visited.sk-estimator-doc-link.fitted {\n",
       "  /* fitted */\n",
       "  border: var(--sklearn-color-fitted-level-1) 1pt solid;\n",
       "  color: var(--sklearn-color-fitted-level-1);\n",
       "}\n",
       "\n",
       "/* On hover */\n",
       "div.sk-estimator:hover .sk-estimator-doc-link:hover,\n",
       ".sk-estimator-doc-link:hover,\n",
       "div.sk-label-container:hover .sk-estimator-doc-link:hover,\n",
       ".sk-estimator-doc-link:hover {\n",
       "  /* unfitted */\n",
       "  background-color: var(--sklearn-color-unfitted-level-3);\n",
       "  color: var(--sklearn-color-background);\n",
       "  text-decoration: none;\n",
       "}\n",
       "\n",
       "div.sk-estimator.fitted:hover .sk-estimator-doc-link.fitted:hover,\n",
       ".sk-estimator-doc-link.fitted:hover,\n",
       "div.sk-label-container:hover .sk-estimator-doc-link.fitted:hover,\n",
       ".sk-estimator-doc-link.fitted:hover {\n",
       "  /* fitted */\n",
       "  background-color: var(--sklearn-color-fitted-level-3);\n",
       "  color: var(--sklearn-color-background);\n",
       "  text-decoration: none;\n",
       "}\n",
       "\n",
       "/* Span, style for the box shown on hovering the info icon */\n",
       ".sk-estimator-doc-link span {\n",
       "  display: none;\n",
       "  z-index: 9999;\n",
       "  position: relative;\n",
       "  font-weight: normal;\n",
       "  right: .2ex;\n",
       "  padding: .5ex;\n",
       "  margin: .5ex;\n",
       "  width: min-content;\n",
       "  min-width: 20ex;\n",
       "  max-width: 50ex;\n",
       "  color: var(--sklearn-color-text);\n",
       "  box-shadow: 2pt 2pt 4pt #999;\n",
       "  /* unfitted */\n",
       "  background: var(--sklearn-color-unfitted-level-0);\n",
       "  border: .5pt solid var(--sklearn-color-unfitted-level-3);\n",
       "}\n",
       "\n",
       ".sk-estimator-doc-link.fitted span {\n",
       "  /* fitted */\n",
       "  background: var(--sklearn-color-fitted-level-0);\n",
       "  border: var(--sklearn-color-fitted-level-3);\n",
       "}\n",
       "\n",
       ".sk-estimator-doc-link:hover span {\n",
       "  display: block;\n",
       "}\n",
       "\n",
       "/* \"?\"-specific style due to the `<a>` HTML tag */\n",
       "\n",
       "#sk-container-id-1 a.estimator_doc_link {\n",
       "  float: right;\n",
       "  font-size: 1rem;\n",
       "  line-height: 1em;\n",
       "  font-family: monospace;\n",
       "  background-color: var(--sklearn-color-background);\n",
       "  border-radius: 1rem;\n",
       "  height: 1rem;\n",
       "  width: 1rem;\n",
       "  text-decoration: none;\n",
       "  /* unfitted */\n",
       "  color: var(--sklearn-color-unfitted-level-1);\n",
       "  border: var(--sklearn-color-unfitted-level-1) 1pt solid;\n",
       "}\n",
       "\n",
       "#sk-container-id-1 a.estimator_doc_link.fitted {\n",
       "  /* fitted */\n",
       "  border: var(--sklearn-color-fitted-level-1) 1pt solid;\n",
       "  color: var(--sklearn-color-fitted-level-1);\n",
       "}\n",
       "\n",
       "/* On hover */\n",
       "#sk-container-id-1 a.estimator_doc_link:hover {\n",
       "  /* unfitted */\n",
       "  background-color: var(--sklearn-color-unfitted-level-3);\n",
       "  color: var(--sklearn-color-background);\n",
       "  text-decoration: none;\n",
       "}\n",
       "\n",
       "#sk-container-id-1 a.estimator_doc_link.fitted:hover {\n",
       "  /* fitted */\n",
       "  background-color: var(--sklearn-color-fitted-level-3);\n",
       "}\n",
       "</style><div id=\"sk-container-id-1\" class=\"sk-top-container\"><div class=\"sk-text-repr-fallback\"><pre>LogisticRegression(C=0.05, max_iter=10000, multi_class=&#x27;multinomial&#x27;,\n",
       "                   solver=&#x27;newton-cg&#x27;)</pre><b>In a Jupyter environment, please rerun this cell to show the HTML representation or trust the notebook. <br />On GitHub, the HTML representation is unable to render, please try loading this page with nbviewer.org.</b></div><div class=\"sk-container\" hidden><div class=\"sk-item\"><div class=\"sk-estimator fitted sk-toggleable\"><input class=\"sk-toggleable__control sk-hidden--visually\" id=\"sk-estimator-id-1\" type=\"checkbox\" checked><label for=\"sk-estimator-id-1\" class=\"sk-toggleable__label fitted sk-toggleable__label-arrow fitted\">&nbsp;&nbsp;LogisticRegression<a class=\"sk-estimator-doc-link fitted\" rel=\"noreferrer\" target=\"_blank\" href=\"https://scikit-learn.org/1.5/modules/generated/sklearn.linear_model.LogisticRegression.html\">?<span>Documentation for LogisticRegression</span></a><span class=\"sk-estimator-doc-link fitted\">i<span>Fitted</span></span></label><div class=\"sk-toggleable__content fitted\"><pre>LogisticRegression(C=0.05, max_iter=10000, multi_class=&#x27;multinomial&#x27;,\n",
       "                   solver=&#x27;newton-cg&#x27;)</pre></div> </div></div></div></div>"
      ],
      "text/plain": [
       "LogisticRegression(C=0.05, max_iter=10000, multi_class='multinomial',\n",
       "                   solver='newton-cg')"
      ]
     },
     "execution_count": 23,
     "metadata": {},
     "output_type": "execute_result"
    }
   ],
   "source": [
    "from sklearn.linear_model import LogisticRegression\n",
    "mlr = LogisticRegression(C=0.05, max_iter=10000, solver='newton-cg', multi_class='multinomial')\n",
    "mlr.fit(X_train_vectorized, y_train)"
   ]
  },
  {
   "cell_type": "code",
   "execution_count": 24,
   "id": "a9231bef",
   "metadata": {},
   "outputs": [],
   "source": [
    "from sklearn.metrics import accuracy_score\n",
    "X_test_transformed = vect.transform(X_test)\n",
    "y_pred_train = mlr.predict(X_train_vectorized)\n",
    "y_pred_test = mlr.predict(X_test_transformed)"
   ]
  },
  {
   "cell_type": "code",
   "execution_count": 25,
   "id": "54f8c16b",
   "metadata": {},
   "outputs": [
    {
     "name": "stdout",
     "output_type": "stream",
     "text": [
      "Train accuracy =  0.7428389560789306\n",
      "Test accuracy =  0.6903225806451613\n"
     ]
    }
   ],
   "source": [
    "print('Train accuracy = ', accuracy_score(y_train, y_pred_train))\n",
    "print('Test accuracy = ', accuracy_score(y_test, y_pred_test))"
   ]
  },
  {
   "cell_type": "code",
   "execution_count": 26,
   "id": "cc448d70",
   "metadata": {},
   "outputs": [],
   "source": [
    "#Predicting sentences"
   ]
  },
  {
   "cell_type": "code",
   "execution_count": 27,
   "id": "678ece68",
   "metadata": {},
   "outputs": [],
   "source": [
    "tweets = pd.DataFrame([\"ನೀವು ಯಾವುದೇ ಪ್ರಯೋಜನವಿಲ್ಲ\",#0angry\n",
    "                       \"ತುಂಬಾ ಒಳ್ಳೆಯದು\",#1happy\n",
    "                       \"ನನ್ನ ಖಾತೆಯಲ್ಲಿ ಎಷ್ಟು ಬ್ಯಾಲೆನ್ಸ್ ಇದೆ\",#2neutral\n",
    "                       \"ಕ್ಯಾಬ್ ಚಾಲಕ ನನ್ನನ್ನು ನಿಂದಿಸಿದ\",#3sad\n",
    "                       \"ನನ್ನ ನಾಯಿ ನಿನ್ನೆ ಸತ್ತುಹೋಯಿತು.\", #sad\n",
    "                       \"ನಾನು ಬಡ್ತಿ ಹೊಂದಲು ಸಂತೋಷಪಡುತ್ತೇನೆ\",#1happy\n",
    "                       \"ಮರುಪ್ರಾರಂಭಿಸಿದಾಗಲೂ ಆಗುತ್ತಿಲ್ಲ\",#3sad\n",
    "                       \"ನನ್ನ ಪರೀಕ್ಷೆಯಲ್ಲಿ ನಾನು ಉತ್ತಮ ಅಂಕಗಳನ್ನು ಗಳಿಸಿದೆ\",#1happy\n",
    "                       \"ಅವರು ನನ್ನನ್ನು ನಾಳೆ ಬರಲು ಹೇಳಿದರು\",#2neutral\n",
    "                       \"ಅವನು ನನ್ನನ್ನು ಗದರಿಸಿದನು\",#3sad\n",
    "                       \"ಸೇವೆಯು ಹತಾಶವಾಗಿತ್ತು\",#0angry\n",
    "                       \"ಇವತ್ತು ಮಂಗಳವಾರ\",\n",
    "                       \n",
    "       ])\n",
    "true_emo=[0,1,2,3,3,1,3,1,2,3,0,2]\n",
    "\n",
    "tweet_count = vect.transform(tweets[0])"
   ]
  },
  {
   "cell_type": "code",
   "execution_count": 28,
   "id": "bbf14704",
   "metadata": {},
   "outputs": [
    {
     "name": "stdout",
     "output_type": "stream",
     "text": [
      "[2 1 2 2 3 0 2 1 2 3 2 2]\n"
     ]
    }
   ],
   "source": [
    "tweet_pred = mlr.predict(tweet_count)\n",
    "print(tweet_pred)"
   ]
  },
  {
   "cell_type": "code",
   "execution_count": 29,
   "id": "217d2e0c",
   "metadata": {},
   "outputs": [],
   "source": [
    "#Comparing between actual emotions and predicted emotions"
   ]
  },
  {
   "cell_type": "code",
   "execution_count": 30,
   "id": "d53d32d2",
   "metadata": {},
   "outputs": [
    {
     "data": {
      "text/html": [
       "<div>\n",
       "<style scoped>\n",
       "    .dataframe tbody tr th:only-of-type {\n",
       "        vertical-align: middle;\n",
       "    }\n",
       "\n",
       "    .dataframe tbody tr th {\n",
       "        vertical-align: top;\n",
       "    }\n",
       "\n",
       "    .dataframe thead th {\n",
       "        text-align: right;\n",
       "    }\n",
       "</style>\n",
       "<table border=\"1\" class=\"dataframe\">\n",
       "  <thead>\n",
       "    <tr style=\"text-align: right;\">\n",
       "      <th></th>\n",
       "      <th>text</th>\n",
       "      <th>actual_emotion</th>\n",
       "      <th>predicted_emotion</th>\n",
       "    </tr>\n",
       "  </thead>\n",
       "  <tbody>\n",
       "    <tr>\n",
       "      <th>0</th>\n",
       "      <td>ನೀವು ಯಾವುದೇ ಪ್ರಯೋಜನವಿಲ್ಲ</td>\n",
       "      <td>Angry</td>\n",
       "      <td>Neutral</td>\n",
       "    </tr>\n",
       "    <tr>\n",
       "      <th>1</th>\n",
       "      <td>ತುಂಬಾ ಒಳ್ಳೆಯದು</td>\n",
       "      <td>Happy</td>\n",
       "      <td>Happy</td>\n",
       "    </tr>\n",
       "    <tr>\n",
       "      <th>2</th>\n",
       "      <td>ನನ್ನ ಖಾತೆಯಲ್ಲಿ ಎಷ್ಟು ಬ್ಯಾಲೆನ್ಸ್ ಇದೆ</td>\n",
       "      <td>Neutral</td>\n",
       "      <td>Neutral</td>\n",
       "    </tr>\n",
       "    <tr>\n",
       "      <th>3</th>\n",
       "      <td>ಕ್ಯಾಬ್ ಚಾಲಕ ನನ್ನನ್ನು ನಿಂದಿಸಿದ</td>\n",
       "      <td>Sad</td>\n",
       "      <td>Neutral</td>\n",
       "    </tr>\n",
       "    <tr>\n",
       "      <th>4</th>\n",
       "      <td>ನನ್ನ ನಾಯಿ ನಿನ್ನೆ ಸತ್ತುಹೋಯಿತು.</td>\n",
       "      <td>Sad</td>\n",
       "      <td>Sad</td>\n",
       "    </tr>\n",
       "    <tr>\n",
       "      <th>5</th>\n",
       "      <td>ನಾನು ಬಡ್ತಿ ಹೊಂದಲು ಸಂತೋಷಪಡುತ್ತೇನೆ</td>\n",
       "      <td>Happy</td>\n",
       "      <td>Angry</td>\n",
       "    </tr>\n",
       "    <tr>\n",
       "      <th>6</th>\n",
       "      <td>ಮರುಪ್ರಾರಂಭಿಸಿದಾಗಲೂ ಆಗುತ್ತಿಲ್ಲ</td>\n",
       "      <td>Sad</td>\n",
       "      <td>Neutral</td>\n",
       "    </tr>\n",
       "    <tr>\n",
       "      <th>7</th>\n",
       "      <td>ನನ್ನ ಪರೀಕ್ಷೆಯಲ್ಲಿ ನಾನು ಉತ್ತಮ ಅಂಕಗಳನ್ನು ಗಳಿಸಿದೆ</td>\n",
       "      <td>Happy</td>\n",
       "      <td>Happy</td>\n",
       "    </tr>\n",
       "    <tr>\n",
       "      <th>8</th>\n",
       "      <td>ಅವರು ನನ್ನನ್ನು ನಾಳೆ ಬರಲು ಹೇಳಿದರು</td>\n",
       "      <td>Neutral</td>\n",
       "      <td>Neutral</td>\n",
       "    </tr>\n",
       "    <tr>\n",
       "      <th>9</th>\n",
       "      <td>ಅವನು ನನ್ನನ್ನು ಗದರಿಸಿದನು</td>\n",
       "      <td>Sad</td>\n",
       "      <td>Sad</td>\n",
       "    </tr>\n",
       "    <tr>\n",
       "      <th>10</th>\n",
       "      <td>ಸೇವೆಯು ಹತಾಶವಾಗಿತ್ತು</td>\n",
       "      <td>Angry</td>\n",
       "      <td>Neutral</td>\n",
       "    </tr>\n",
       "    <tr>\n",
       "      <th>11</th>\n",
       "      <td>ಇವತ್ತು ಮಂಗಳವಾರ</td>\n",
       "      <td>Neutral</td>\n",
       "      <td>Neutral</td>\n",
       "    </tr>\n",
       "  </tbody>\n",
       "</table>\n",
       "</div>"
      ],
      "text/plain": [
       "                                              text actual_emotion  \\\n",
       "0                         ನೀವು ಯಾವುದೇ ಪ್ರಯೋಜನವಿಲ್ಲ          Angry   \n",
       "1                                   ತುಂಬಾ ಒಳ್ಳೆಯದು          Happy   \n",
       "2              ನನ್ನ ಖಾತೆಯಲ್ಲಿ ಎಷ್ಟು ಬ್ಯಾಲೆನ್ಸ್ ಇದೆ        Neutral   \n",
       "3                    ಕ್ಯಾಬ್ ಚಾಲಕ ನನ್ನನ್ನು ನಿಂದಿಸಿದ            Sad   \n",
       "4                    ನನ್ನ ನಾಯಿ ನಿನ್ನೆ ಸತ್ತುಹೋಯಿತು.            Sad   \n",
       "5                 ನಾನು ಬಡ್ತಿ ಹೊಂದಲು ಸಂತೋಷಪಡುತ್ತೇನೆ          Happy   \n",
       "6                    ಮರುಪ್ರಾರಂಭಿಸಿದಾಗಲೂ ಆಗುತ್ತಿಲ್ಲ            Sad   \n",
       "7   ನನ್ನ ಪರೀಕ್ಷೆಯಲ್ಲಿ ನಾನು ಉತ್ತಮ ಅಂಕಗಳನ್ನು ಗಳಿಸಿದೆ          Happy   \n",
       "8                  ಅವರು ನನ್ನನ್ನು ನಾಳೆ ಬರಲು ಹೇಳಿದರು        Neutral   \n",
       "9                          ಅವನು ನನ್ನನ್ನು ಗದರಿಸಿದನು            Sad   \n",
       "10                             ಸೇವೆಯು ಹತಾಶವಾಗಿತ್ತು          Angry   \n",
       "11                                  ಇವತ್ತು ಮಂಗಳವಾರ        Neutral   \n",
       "\n",
       "   predicted_emotion  \n",
       "0            Neutral  \n",
       "1              Happy  \n",
       "2            Neutral  \n",
       "3            Neutral  \n",
       "4                Sad  \n",
       "5              Angry  \n",
       "6            Neutral  \n",
       "7              Happy  \n",
       "8            Neutral  \n",
       "9                Sad  \n",
       "10           Neutral  \n",
       "11           Neutral  "
      ]
     },
     "execution_count": 30,
     "metadata": {},
     "output_type": "execute_result"
    }
   ],
   "source": [
    "final_result=tweets.copy()\n",
    "final_result['true_emotion']=true_emo\n",
    "final_result['result']=tweet_pred\n",
    "final_result=final_result.rename(columns={0:\"text\"})\n",
    "\n",
    "final_result=final_result.rename(columns={\"result\":\"predicted_emotion\"})\n",
    "final_result=final_result.rename(columns={\"true_emotion\":\"actual_emotion\"})\n",
    "final_result=final_result.replace({0: 'Angry', 1: 'Happy', 2: 'Neutral', 3: 'Sad'})\n",
    "final_result\n"
   ]
  },
  {
   "cell_type": "code",
   "execution_count": 31,
   "id": "121befa6",
   "metadata": {},
   "outputs": [],
   "source": [
    "#Sample Dataset Accuracy"
   ]
  },
  {
   "cell_type": "code",
   "execution_count": 32,
   "id": "d6d6f2b5",
   "metadata": {},
   "outputs": [
    {
     "name": "stdout",
     "output_type": "stream",
     "text": [
      "Accuracy obtained in sample dataset:  0.5833333333333334\n"
     ]
    }
   ],
   "source": [
    "c=0\n",
    "for i in range(len(final_result['text'])):\n",
    "    if final_result['predicted_emotion'][i]==final_result['actual_emotion'][i]:\n",
    "        c+=1\n",
    "print(\"Accuracy obtained in sample dataset: \",c/len(final_result['text']))"
   ]
  },
  {
   "cell_type": "code",
   "execution_count": 33,
   "id": "30b95b38",
   "metadata": {},
   "outputs": [],
   "source": [
    "#F1 Score of MLR model:"
   ]
  },
  {
   "cell_type": "code",
   "execution_count": 34,
   "id": "6bb633f8",
   "metadata": {},
   "outputs": [
    {
     "name": "stdout",
     "output_type": "stream",
     "text": [
      "F1 score: 0.690939393601063\n"
     ]
    }
   ],
   "source": [
    "from sklearn.metrics import f1_score\n",
    "print('F1 score:', f1_score(y_test, y_pred_test, average=\"macro\"))"
   ]
  },
  {
   "cell_type": "code",
   "execution_count": 35,
   "id": "9d60be74",
   "metadata": {},
   "outputs": [],
   "source": [
    "from sklearn.metrics import classification_report"
   ]
  },
  {
   "cell_type": "code",
   "execution_count": 36,
   "id": "9a5b7591",
   "metadata": {},
   "outputs": [],
   "source": [
    "#Classification report of MLR model:"
   ]
  },
  {
   "cell_type": "code",
   "execution_count": 37,
   "id": "2a084383",
   "metadata": {},
   "outputs": [
    {
     "name": "stdout",
     "output_type": "stream",
     "text": [
      "              precision    recall  f1-score   support\n",
      "\n",
      "           0       0.79      0.61      0.69        74\n",
      "           1       0.72      0.62      0.66        78\n",
      "           2       0.56      0.89      0.69        83\n",
      "           3       0.85      0.63      0.72        75\n",
      "\n",
      "    accuracy                           0.69       310\n",
      "   macro avg       0.73      0.69      0.69       310\n",
      "weighted avg       0.73      0.69      0.69       310\n",
      "\n"
     ]
    }
   ],
   "source": [
    "print(classification_report(y_test, y_pred_test))"
   ]
  },
  {
   "cell_type": "code",
   "execution_count": 38,
   "id": "2460b0fc",
   "metadata": {},
   "outputs": [],
   "source": [
    "#Saving MLR model to disk:"
   ]
  },
  {
   "cell_type": "code",
   "execution_count": 39,
   "id": "92c47cd8",
   "metadata": {},
   "outputs": [],
   "source": [
    "pickle.dump(mlr, open('mlr_model.sav', 'wb'))"
   ]
  },
  {
   "cell_type": "code",
   "execution_count": 40,
   "id": "f1294437",
   "metadata": {},
   "outputs": [],
   "source": [
    "#Decision Tree Classifier"
   ]
  },
  {
   "cell_type": "code",
   "execution_count": 41,
   "id": "66af5424",
   "metadata": {},
   "outputs": [
    {
     "data": {
      "text/html": [
       "<style>#sk-container-id-2 {\n",
       "  /* Definition of color scheme common for light and dark mode */\n",
       "  --sklearn-color-text: black;\n",
       "  --sklearn-color-line: gray;\n",
       "  /* Definition of color scheme for unfitted estimators */\n",
       "  --sklearn-color-unfitted-level-0: #fff5e6;\n",
       "  --sklearn-color-unfitted-level-1: #f6e4d2;\n",
       "  --sklearn-color-unfitted-level-2: #ffe0b3;\n",
       "  --sklearn-color-unfitted-level-3: chocolate;\n",
       "  /* Definition of color scheme for fitted estimators */\n",
       "  --sklearn-color-fitted-level-0: #f0f8ff;\n",
       "  --sklearn-color-fitted-level-1: #d4ebff;\n",
       "  --sklearn-color-fitted-level-2: #b3dbfd;\n",
       "  --sklearn-color-fitted-level-3: cornflowerblue;\n",
       "\n",
       "  /* Specific color for light theme */\n",
       "  --sklearn-color-text-on-default-background: var(--sg-text-color, var(--theme-code-foreground, var(--jp-content-font-color1, black)));\n",
       "  --sklearn-color-background: var(--sg-background-color, var(--theme-background, var(--jp-layout-color0, white)));\n",
       "  --sklearn-color-border-box: var(--sg-text-color, var(--theme-code-foreground, var(--jp-content-font-color1, black)));\n",
       "  --sklearn-color-icon: #696969;\n",
       "\n",
       "  @media (prefers-color-scheme: dark) {\n",
       "    /* Redefinition of color scheme for dark theme */\n",
       "    --sklearn-color-text-on-default-background: var(--sg-text-color, var(--theme-code-foreground, var(--jp-content-font-color1, white)));\n",
       "    --sklearn-color-background: var(--sg-background-color, var(--theme-background, var(--jp-layout-color0, #111)));\n",
       "    --sklearn-color-border-box: var(--sg-text-color, var(--theme-code-foreground, var(--jp-content-font-color1, white)));\n",
       "    --sklearn-color-icon: #878787;\n",
       "  }\n",
       "}\n",
       "\n",
       "#sk-container-id-2 {\n",
       "  color: var(--sklearn-color-text);\n",
       "}\n",
       "\n",
       "#sk-container-id-2 pre {\n",
       "  padding: 0;\n",
       "}\n",
       "\n",
       "#sk-container-id-2 input.sk-hidden--visually {\n",
       "  border: 0;\n",
       "  clip: rect(1px 1px 1px 1px);\n",
       "  clip: rect(1px, 1px, 1px, 1px);\n",
       "  height: 1px;\n",
       "  margin: -1px;\n",
       "  overflow: hidden;\n",
       "  padding: 0;\n",
       "  position: absolute;\n",
       "  width: 1px;\n",
       "}\n",
       "\n",
       "#sk-container-id-2 div.sk-dashed-wrapped {\n",
       "  border: 1px dashed var(--sklearn-color-line);\n",
       "  margin: 0 0.4em 0.5em 0.4em;\n",
       "  box-sizing: border-box;\n",
       "  padding-bottom: 0.4em;\n",
       "  background-color: var(--sklearn-color-background);\n",
       "}\n",
       "\n",
       "#sk-container-id-2 div.sk-container {\n",
       "  /* jupyter's `normalize.less` sets `[hidden] { display: none; }`\n",
       "     but bootstrap.min.css set `[hidden] { display: none !important; }`\n",
       "     so we also need the `!important` here to be able to override the\n",
       "     default hidden behavior on the sphinx rendered scikit-learn.org.\n",
       "     See: https://github.com/scikit-learn/scikit-learn/issues/21755 */\n",
       "  display: inline-block !important;\n",
       "  position: relative;\n",
       "}\n",
       "\n",
       "#sk-container-id-2 div.sk-text-repr-fallback {\n",
       "  display: none;\n",
       "}\n",
       "\n",
       "div.sk-parallel-item,\n",
       "div.sk-serial,\n",
       "div.sk-item {\n",
       "  /* draw centered vertical line to link estimators */\n",
       "  background-image: linear-gradient(var(--sklearn-color-text-on-default-background), var(--sklearn-color-text-on-default-background));\n",
       "  background-size: 2px 100%;\n",
       "  background-repeat: no-repeat;\n",
       "  background-position: center center;\n",
       "}\n",
       "\n",
       "/* Parallel-specific style estimator block */\n",
       "\n",
       "#sk-container-id-2 div.sk-parallel-item::after {\n",
       "  content: \"\";\n",
       "  width: 100%;\n",
       "  border-bottom: 2px solid var(--sklearn-color-text-on-default-background);\n",
       "  flex-grow: 1;\n",
       "}\n",
       "\n",
       "#sk-container-id-2 div.sk-parallel {\n",
       "  display: flex;\n",
       "  align-items: stretch;\n",
       "  justify-content: center;\n",
       "  background-color: var(--sklearn-color-background);\n",
       "  position: relative;\n",
       "}\n",
       "\n",
       "#sk-container-id-2 div.sk-parallel-item {\n",
       "  display: flex;\n",
       "  flex-direction: column;\n",
       "}\n",
       "\n",
       "#sk-container-id-2 div.sk-parallel-item:first-child::after {\n",
       "  align-self: flex-end;\n",
       "  width: 50%;\n",
       "}\n",
       "\n",
       "#sk-container-id-2 div.sk-parallel-item:last-child::after {\n",
       "  align-self: flex-start;\n",
       "  width: 50%;\n",
       "}\n",
       "\n",
       "#sk-container-id-2 div.sk-parallel-item:only-child::after {\n",
       "  width: 0;\n",
       "}\n",
       "\n",
       "/* Serial-specific style estimator block */\n",
       "\n",
       "#sk-container-id-2 div.sk-serial {\n",
       "  display: flex;\n",
       "  flex-direction: column;\n",
       "  align-items: center;\n",
       "  background-color: var(--sklearn-color-background);\n",
       "  padding-right: 1em;\n",
       "  padding-left: 1em;\n",
       "}\n",
       "\n",
       "\n",
       "/* Toggleable style: style used for estimator/Pipeline/ColumnTransformer box that is\n",
       "clickable and can be expanded/collapsed.\n",
       "- Pipeline and ColumnTransformer use this feature and define the default style\n",
       "- Estimators will overwrite some part of the style using the `sk-estimator` class\n",
       "*/\n",
       "\n",
       "/* Pipeline and ColumnTransformer style (default) */\n",
       "\n",
       "#sk-container-id-2 div.sk-toggleable {\n",
       "  /* Default theme specific background. It is overwritten whether we have a\n",
       "  specific estimator or a Pipeline/ColumnTransformer */\n",
       "  background-color: var(--sklearn-color-background);\n",
       "}\n",
       "\n",
       "/* Toggleable label */\n",
       "#sk-container-id-2 label.sk-toggleable__label {\n",
       "  cursor: pointer;\n",
       "  display: block;\n",
       "  width: 100%;\n",
       "  margin-bottom: 0;\n",
       "  padding: 0.5em;\n",
       "  box-sizing: border-box;\n",
       "  text-align: center;\n",
       "}\n",
       "\n",
       "#sk-container-id-2 label.sk-toggleable__label-arrow:before {\n",
       "  /* Arrow on the left of the label */\n",
       "  content: \"▸\";\n",
       "  float: left;\n",
       "  margin-right: 0.25em;\n",
       "  color: var(--sklearn-color-icon);\n",
       "}\n",
       "\n",
       "#sk-container-id-2 label.sk-toggleable__label-arrow:hover:before {\n",
       "  color: var(--sklearn-color-text);\n",
       "}\n",
       "\n",
       "/* Toggleable content - dropdown */\n",
       "\n",
       "#sk-container-id-2 div.sk-toggleable__content {\n",
       "  max-height: 0;\n",
       "  max-width: 0;\n",
       "  overflow: hidden;\n",
       "  text-align: left;\n",
       "  /* unfitted */\n",
       "  background-color: var(--sklearn-color-unfitted-level-0);\n",
       "}\n",
       "\n",
       "#sk-container-id-2 div.sk-toggleable__content.fitted {\n",
       "  /* fitted */\n",
       "  background-color: var(--sklearn-color-fitted-level-0);\n",
       "}\n",
       "\n",
       "#sk-container-id-2 div.sk-toggleable__content pre {\n",
       "  margin: 0.2em;\n",
       "  border-radius: 0.25em;\n",
       "  color: var(--sklearn-color-text);\n",
       "  /* unfitted */\n",
       "  background-color: var(--sklearn-color-unfitted-level-0);\n",
       "}\n",
       "\n",
       "#sk-container-id-2 div.sk-toggleable__content.fitted pre {\n",
       "  /* unfitted */\n",
       "  background-color: var(--sklearn-color-fitted-level-0);\n",
       "}\n",
       "\n",
       "#sk-container-id-2 input.sk-toggleable__control:checked~div.sk-toggleable__content {\n",
       "  /* Expand drop-down */\n",
       "  max-height: 200px;\n",
       "  max-width: 100%;\n",
       "  overflow: auto;\n",
       "}\n",
       "\n",
       "#sk-container-id-2 input.sk-toggleable__control:checked~label.sk-toggleable__label-arrow:before {\n",
       "  content: \"▾\";\n",
       "}\n",
       "\n",
       "/* Pipeline/ColumnTransformer-specific style */\n",
       "\n",
       "#sk-container-id-2 div.sk-label input.sk-toggleable__control:checked~label.sk-toggleable__label {\n",
       "  color: var(--sklearn-color-text);\n",
       "  background-color: var(--sklearn-color-unfitted-level-2);\n",
       "}\n",
       "\n",
       "#sk-container-id-2 div.sk-label.fitted input.sk-toggleable__control:checked~label.sk-toggleable__label {\n",
       "  background-color: var(--sklearn-color-fitted-level-2);\n",
       "}\n",
       "\n",
       "/* Estimator-specific style */\n",
       "\n",
       "/* Colorize estimator box */\n",
       "#sk-container-id-2 div.sk-estimator input.sk-toggleable__control:checked~label.sk-toggleable__label {\n",
       "  /* unfitted */\n",
       "  background-color: var(--sklearn-color-unfitted-level-2);\n",
       "}\n",
       "\n",
       "#sk-container-id-2 div.sk-estimator.fitted input.sk-toggleable__control:checked~label.sk-toggleable__label {\n",
       "  /* fitted */\n",
       "  background-color: var(--sklearn-color-fitted-level-2);\n",
       "}\n",
       "\n",
       "#sk-container-id-2 div.sk-label label.sk-toggleable__label,\n",
       "#sk-container-id-2 div.sk-label label {\n",
       "  /* The background is the default theme color */\n",
       "  color: var(--sklearn-color-text-on-default-background);\n",
       "}\n",
       "\n",
       "/* On hover, darken the color of the background */\n",
       "#sk-container-id-2 div.sk-label:hover label.sk-toggleable__label {\n",
       "  color: var(--sklearn-color-text);\n",
       "  background-color: var(--sklearn-color-unfitted-level-2);\n",
       "}\n",
       "\n",
       "/* Label box, darken color on hover, fitted */\n",
       "#sk-container-id-2 div.sk-label.fitted:hover label.sk-toggleable__label.fitted {\n",
       "  color: var(--sklearn-color-text);\n",
       "  background-color: var(--sklearn-color-fitted-level-2);\n",
       "}\n",
       "\n",
       "/* Estimator label */\n",
       "\n",
       "#sk-container-id-2 div.sk-label label {\n",
       "  font-family: monospace;\n",
       "  font-weight: bold;\n",
       "  display: inline-block;\n",
       "  line-height: 1.2em;\n",
       "}\n",
       "\n",
       "#sk-container-id-2 div.sk-label-container {\n",
       "  text-align: center;\n",
       "}\n",
       "\n",
       "/* Estimator-specific */\n",
       "#sk-container-id-2 div.sk-estimator {\n",
       "  font-family: monospace;\n",
       "  border: 1px dotted var(--sklearn-color-border-box);\n",
       "  border-radius: 0.25em;\n",
       "  box-sizing: border-box;\n",
       "  margin-bottom: 0.5em;\n",
       "  /* unfitted */\n",
       "  background-color: var(--sklearn-color-unfitted-level-0);\n",
       "}\n",
       "\n",
       "#sk-container-id-2 div.sk-estimator.fitted {\n",
       "  /* fitted */\n",
       "  background-color: var(--sklearn-color-fitted-level-0);\n",
       "}\n",
       "\n",
       "/* on hover */\n",
       "#sk-container-id-2 div.sk-estimator:hover {\n",
       "  /* unfitted */\n",
       "  background-color: var(--sklearn-color-unfitted-level-2);\n",
       "}\n",
       "\n",
       "#sk-container-id-2 div.sk-estimator.fitted:hover {\n",
       "  /* fitted */\n",
       "  background-color: var(--sklearn-color-fitted-level-2);\n",
       "}\n",
       "\n",
       "/* Specification for estimator info (e.g. \"i\" and \"?\") */\n",
       "\n",
       "/* Common style for \"i\" and \"?\" */\n",
       "\n",
       ".sk-estimator-doc-link,\n",
       "a:link.sk-estimator-doc-link,\n",
       "a:visited.sk-estimator-doc-link {\n",
       "  float: right;\n",
       "  font-size: smaller;\n",
       "  line-height: 1em;\n",
       "  font-family: monospace;\n",
       "  background-color: var(--sklearn-color-background);\n",
       "  border-radius: 1em;\n",
       "  height: 1em;\n",
       "  width: 1em;\n",
       "  text-decoration: none !important;\n",
       "  margin-left: 1ex;\n",
       "  /* unfitted */\n",
       "  border: var(--sklearn-color-unfitted-level-1) 1pt solid;\n",
       "  color: var(--sklearn-color-unfitted-level-1);\n",
       "}\n",
       "\n",
       ".sk-estimator-doc-link.fitted,\n",
       "a:link.sk-estimator-doc-link.fitted,\n",
       "a:visited.sk-estimator-doc-link.fitted {\n",
       "  /* fitted */\n",
       "  border: var(--sklearn-color-fitted-level-1) 1pt solid;\n",
       "  color: var(--sklearn-color-fitted-level-1);\n",
       "}\n",
       "\n",
       "/* On hover */\n",
       "div.sk-estimator:hover .sk-estimator-doc-link:hover,\n",
       ".sk-estimator-doc-link:hover,\n",
       "div.sk-label-container:hover .sk-estimator-doc-link:hover,\n",
       ".sk-estimator-doc-link:hover {\n",
       "  /* unfitted */\n",
       "  background-color: var(--sklearn-color-unfitted-level-3);\n",
       "  color: var(--sklearn-color-background);\n",
       "  text-decoration: none;\n",
       "}\n",
       "\n",
       "div.sk-estimator.fitted:hover .sk-estimator-doc-link.fitted:hover,\n",
       ".sk-estimator-doc-link.fitted:hover,\n",
       "div.sk-label-container:hover .sk-estimator-doc-link.fitted:hover,\n",
       ".sk-estimator-doc-link.fitted:hover {\n",
       "  /* fitted */\n",
       "  background-color: var(--sklearn-color-fitted-level-3);\n",
       "  color: var(--sklearn-color-background);\n",
       "  text-decoration: none;\n",
       "}\n",
       "\n",
       "/* Span, style for the box shown on hovering the info icon */\n",
       ".sk-estimator-doc-link span {\n",
       "  display: none;\n",
       "  z-index: 9999;\n",
       "  position: relative;\n",
       "  font-weight: normal;\n",
       "  right: .2ex;\n",
       "  padding: .5ex;\n",
       "  margin: .5ex;\n",
       "  width: min-content;\n",
       "  min-width: 20ex;\n",
       "  max-width: 50ex;\n",
       "  color: var(--sklearn-color-text);\n",
       "  box-shadow: 2pt 2pt 4pt #999;\n",
       "  /* unfitted */\n",
       "  background: var(--sklearn-color-unfitted-level-0);\n",
       "  border: .5pt solid var(--sklearn-color-unfitted-level-3);\n",
       "}\n",
       "\n",
       ".sk-estimator-doc-link.fitted span {\n",
       "  /* fitted */\n",
       "  background: var(--sklearn-color-fitted-level-0);\n",
       "  border: var(--sklearn-color-fitted-level-3);\n",
       "}\n",
       "\n",
       ".sk-estimator-doc-link:hover span {\n",
       "  display: block;\n",
       "}\n",
       "\n",
       "/* \"?\"-specific style due to the `<a>` HTML tag */\n",
       "\n",
       "#sk-container-id-2 a.estimator_doc_link {\n",
       "  float: right;\n",
       "  font-size: 1rem;\n",
       "  line-height: 1em;\n",
       "  font-family: monospace;\n",
       "  background-color: var(--sklearn-color-background);\n",
       "  border-radius: 1rem;\n",
       "  height: 1rem;\n",
       "  width: 1rem;\n",
       "  text-decoration: none;\n",
       "  /* unfitted */\n",
       "  color: var(--sklearn-color-unfitted-level-1);\n",
       "  border: var(--sklearn-color-unfitted-level-1) 1pt solid;\n",
       "}\n",
       "\n",
       "#sk-container-id-2 a.estimator_doc_link.fitted {\n",
       "  /* fitted */\n",
       "  border: var(--sklearn-color-fitted-level-1) 1pt solid;\n",
       "  color: var(--sklearn-color-fitted-level-1);\n",
       "}\n",
       "\n",
       "/* On hover */\n",
       "#sk-container-id-2 a.estimator_doc_link:hover {\n",
       "  /* unfitted */\n",
       "  background-color: var(--sklearn-color-unfitted-level-3);\n",
       "  color: var(--sklearn-color-background);\n",
       "  text-decoration: none;\n",
       "}\n",
       "\n",
       "#sk-container-id-2 a.estimator_doc_link.fitted:hover {\n",
       "  /* fitted */\n",
       "  background-color: var(--sklearn-color-fitted-level-3);\n",
       "}\n",
       "</style><div id=\"sk-container-id-2\" class=\"sk-top-container\"><div class=\"sk-text-repr-fallback\"><pre>DecisionTreeClassifier()</pre><b>In a Jupyter environment, please rerun this cell to show the HTML representation or trust the notebook. <br />On GitHub, the HTML representation is unable to render, please try loading this page with nbviewer.org.</b></div><div class=\"sk-container\" hidden><div class=\"sk-item\"><div class=\"sk-estimator fitted sk-toggleable\"><input class=\"sk-toggleable__control sk-hidden--visually\" id=\"sk-estimator-id-2\" type=\"checkbox\" checked><label for=\"sk-estimator-id-2\" class=\"sk-toggleable__label fitted sk-toggleable__label-arrow fitted\">&nbsp;&nbsp;DecisionTreeClassifier<a class=\"sk-estimator-doc-link fitted\" rel=\"noreferrer\" target=\"_blank\" href=\"https://scikit-learn.org/1.5/modules/generated/sklearn.tree.DecisionTreeClassifier.html\">?<span>Documentation for DecisionTreeClassifier</span></a><span class=\"sk-estimator-doc-link fitted\">i<span>Fitted</span></span></label><div class=\"sk-toggleable__content fitted\"><pre>DecisionTreeClassifier()</pre></div> </div></div></div></div>"
      ],
      "text/plain": [
       "DecisionTreeClassifier()"
      ]
     },
     "execution_count": 41,
     "metadata": {},
     "output_type": "execute_result"
    }
   ],
   "source": [
    "from sklearn import tree\n",
    "# Decision tree fit\n",
    "dt = tree.DecisionTreeClassifier()\n",
    "dt.fit(X_train_vectorized, y_train)"
   ]
  },
  {
   "cell_type": "code",
   "execution_count": 42,
   "id": "8f025277",
   "metadata": {},
   "outputs": [],
   "source": [
    "#calculating score\n",
    "X_test_transformed = vect.transform(X_test)\n",
    "y_dt_train = dt.predict(X_train_vectorized)\n",
    "y_dt_test = dt.predict(X_test_transformed)"
   ]
  },
  {
   "cell_type": "code",
   "execution_count": 43,
   "id": "e325cb76",
   "metadata": {},
   "outputs": [],
   "source": [
    "#Train and Test Acccuracies:"
   ]
  },
  {
   "cell_type": "code",
   "execution_count": 44,
   "id": "1956847d",
   "metadata": {},
   "outputs": [
    {
     "name": "stdout",
     "output_type": "stream",
     "text": [
      "Train accuracy =  0.9140674729471674\n",
      "Test accuracy =  0.8129032258064516\n"
     ]
    }
   ],
   "source": [
    "print('Train accuracy = ', accuracy_score(y_train, y_dt_train))\n",
    "print('Test accuracy = ', accuracy_score(y_test, y_dt_test))"
   ]
  },
  {
   "cell_type": "code",
   "execution_count": 45,
   "id": "f00df62c",
   "metadata": {},
   "outputs": [],
   "source": [
    "#Predicting sentences:"
   ]
  },
  {
   "cell_type": "code",
   "execution_count": 46,
   "id": "84f7c229",
   "metadata": {},
   "outputs": [
    {
     "name": "stdout",
     "output_type": "stream",
     "text": [
      "[2 1 2 1 3 2 2 2 2 3 2 2]\n"
     ]
    },
    {
     "data": {
      "text/plain": [
       "0                           ನೀವು ಯಾವುದೇ ಪ್ರಯೋಜನವಿಲ್ಲ\n",
       "1                                     ತುಂಬಾ ಒಳ್ಳೆಯದು\n",
       "2                ನನ್ನ ಖಾತೆಯಲ್ಲಿ ಎಷ್ಟು ಬ್ಯಾಲೆನ್ಸ್ ಇದೆ\n",
       "3                      ಕ್ಯಾಬ್ ಚಾಲಕ ನನ್ನನ್ನು ನಿಂದಿಸಿದ\n",
       "4                      ನನ್ನ ನಾಯಿ ನಿನ್ನೆ ಸತ್ತುಹೋಯಿತು.\n",
       "5                   ನಾನು ಬಡ್ತಿ ಹೊಂದಲು ಸಂತೋಷಪಡುತ್ತೇನೆ\n",
       "6                      ಮರುಪ್ರಾರಂಭಿಸಿದಾಗಲೂ ಆಗುತ್ತಿಲ್ಲ\n",
       "7     ನನ್ನ ಪರೀಕ್ಷೆಯಲ್ಲಿ ನಾನು ಉತ್ತಮ ಅಂಕಗಳನ್ನು ಗಳಿಸಿದೆ\n",
       "8                    ಅವರು ನನ್ನನ್ನು ನಾಳೆ ಬರಲು ಹೇಳಿದರು\n",
       "9                            ಅವನು ನನ್ನನ್ನು ಗದರಿಸಿದನು\n",
       "10                               ಸೇವೆಯು ಹತಾಶವಾಗಿತ್ತು\n",
       "11                                    ಇವತ್ತು ಮಂಗಳವಾರ\n",
       "Name: 0, dtype: object"
      ]
     },
     "execution_count": 46,
     "metadata": {},
     "output_type": "execute_result"
    }
   ],
   "source": [
    "#Predicting the emotion of the tweet by dt\n",
    "tweet_pred = dt.predict(tweet_count)\n",
    "print(tweet_pred)\n",
    "tweets[0]"
   ]
  },
  {
   "cell_type": "code",
   "execution_count": 47,
   "id": "da169596",
   "metadata": {},
   "outputs": [],
   "source": [
    "#Comparing between actual emotions and predicted emotions"
   ]
  },
  {
   "cell_type": "code",
   "execution_count": 48,
   "id": "dd6428f7",
   "metadata": {},
   "outputs": [
    {
     "data": {
      "text/html": [
       "<div>\n",
       "<style scoped>\n",
       "    .dataframe tbody tr th:only-of-type {\n",
       "        vertical-align: middle;\n",
       "    }\n",
       "\n",
       "    .dataframe tbody tr th {\n",
       "        vertical-align: top;\n",
       "    }\n",
       "\n",
       "    .dataframe thead th {\n",
       "        text-align: right;\n",
       "    }\n",
       "</style>\n",
       "<table border=\"1\" class=\"dataframe\">\n",
       "  <thead>\n",
       "    <tr style=\"text-align: right;\">\n",
       "      <th></th>\n",
       "      <th>text</th>\n",
       "      <th>actual_emotion</th>\n",
       "      <th>predicted_emotion</th>\n",
       "    </tr>\n",
       "  </thead>\n",
       "  <tbody>\n",
       "    <tr>\n",
       "      <th>0</th>\n",
       "      <td>ನೀವು ಯಾವುದೇ ಪ್ರಯೋಜನವಿಲ್ಲ</td>\n",
       "      <td>Angry</td>\n",
       "      <td>Neutral</td>\n",
       "    </tr>\n",
       "    <tr>\n",
       "      <th>1</th>\n",
       "      <td>ತುಂಬಾ ಒಳ್ಳೆಯದು</td>\n",
       "      <td>Happy</td>\n",
       "      <td>Happy</td>\n",
       "    </tr>\n",
       "    <tr>\n",
       "      <th>2</th>\n",
       "      <td>ನನ್ನ ಖಾತೆಯಲ್ಲಿ ಎಷ್ಟು ಬ್ಯಾಲೆನ್ಸ್ ಇದೆ</td>\n",
       "      <td>Neutral</td>\n",
       "      <td>Neutral</td>\n",
       "    </tr>\n",
       "    <tr>\n",
       "      <th>3</th>\n",
       "      <td>ಕ್ಯಾಬ್ ಚಾಲಕ ನನ್ನನ್ನು ನಿಂದಿಸಿದ</td>\n",
       "      <td>Sad</td>\n",
       "      <td>Happy</td>\n",
       "    </tr>\n",
       "    <tr>\n",
       "      <th>4</th>\n",
       "      <td>ನನ್ನ ನಾಯಿ ನಿನ್ನೆ ಸತ್ತುಹೋಯಿತು.</td>\n",
       "      <td>Sad</td>\n",
       "      <td>Sad</td>\n",
       "    </tr>\n",
       "    <tr>\n",
       "      <th>5</th>\n",
       "      <td>ನಾನು ಬಡ್ತಿ ಹೊಂದಲು ಸಂತೋಷಪಡುತ್ತೇನೆ</td>\n",
       "      <td>Happy</td>\n",
       "      <td>Neutral</td>\n",
       "    </tr>\n",
       "    <tr>\n",
       "      <th>6</th>\n",
       "      <td>ಮರುಪ್ರಾರಂಭಿಸಿದಾಗಲೂ ಆಗುತ್ತಿಲ್ಲ</td>\n",
       "      <td>Sad</td>\n",
       "      <td>Neutral</td>\n",
       "    </tr>\n",
       "    <tr>\n",
       "      <th>7</th>\n",
       "      <td>ನನ್ನ ಪರೀಕ್ಷೆಯಲ್ಲಿ ನಾನು ಉತ್ತಮ ಅಂಕಗಳನ್ನು ಗಳಿಸಿದೆ</td>\n",
       "      <td>Happy</td>\n",
       "      <td>Neutral</td>\n",
       "    </tr>\n",
       "    <tr>\n",
       "      <th>8</th>\n",
       "      <td>ಅವರು ನನ್ನನ್ನು ನಾಳೆ ಬರಲು ಹೇಳಿದರು</td>\n",
       "      <td>Neutral</td>\n",
       "      <td>Neutral</td>\n",
       "    </tr>\n",
       "    <tr>\n",
       "      <th>9</th>\n",
       "      <td>ಅವನು ನನ್ನನ್ನು ಗದರಿಸಿದನು</td>\n",
       "      <td>Sad</td>\n",
       "      <td>Sad</td>\n",
       "    </tr>\n",
       "    <tr>\n",
       "      <th>10</th>\n",
       "      <td>ಸೇವೆಯು ಹತಾಶವಾಗಿತ್ತು</td>\n",
       "      <td>Angry</td>\n",
       "      <td>Neutral</td>\n",
       "    </tr>\n",
       "    <tr>\n",
       "      <th>11</th>\n",
       "      <td>ಇವತ್ತು ಮಂಗಳವಾರ</td>\n",
       "      <td>Neutral</td>\n",
       "      <td>Neutral</td>\n",
       "    </tr>\n",
       "  </tbody>\n",
       "</table>\n",
       "</div>"
      ],
      "text/plain": [
       "                                              text actual_emotion  \\\n",
       "0                         ನೀವು ಯಾವುದೇ ಪ್ರಯೋಜನವಿಲ್ಲ          Angry   \n",
       "1                                   ತುಂಬಾ ಒಳ್ಳೆಯದು          Happy   \n",
       "2              ನನ್ನ ಖಾತೆಯಲ್ಲಿ ಎಷ್ಟು ಬ್ಯಾಲೆನ್ಸ್ ಇದೆ        Neutral   \n",
       "3                    ಕ್ಯಾಬ್ ಚಾಲಕ ನನ್ನನ್ನು ನಿಂದಿಸಿದ            Sad   \n",
       "4                    ನನ್ನ ನಾಯಿ ನಿನ್ನೆ ಸತ್ತುಹೋಯಿತು.            Sad   \n",
       "5                 ನಾನು ಬಡ್ತಿ ಹೊಂದಲು ಸಂತೋಷಪಡುತ್ತೇನೆ          Happy   \n",
       "6                    ಮರುಪ್ರಾರಂಭಿಸಿದಾಗಲೂ ಆಗುತ್ತಿಲ್ಲ            Sad   \n",
       "7   ನನ್ನ ಪರೀಕ್ಷೆಯಲ್ಲಿ ನಾನು ಉತ್ತಮ ಅಂಕಗಳನ್ನು ಗಳಿಸಿದೆ          Happy   \n",
       "8                  ಅವರು ನನ್ನನ್ನು ನಾಳೆ ಬರಲು ಹೇಳಿದರು        Neutral   \n",
       "9                          ಅವನು ನನ್ನನ್ನು ಗದರಿಸಿದನು            Sad   \n",
       "10                             ಸೇವೆಯು ಹತಾಶವಾಗಿತ್ತು          Angry   \n",
       "11                                  ಇವತ್ತು ಮಂಗಳವಾರ        Neutral   \n",
       "\n",
       "   predicted_emotion  \n",
       "0            Neutral  \n",
       "1              Happy  \n",
       "2            Neutral  \n",
       "3              Happy  \n",
       "4                Sad  \n",
       "5            Neutral  \n",
       "6            Neutral  \n",
       "7            Neutral  \n",
       "8            Neutral  \n",
       "9                Sad  \n",
       "10           Neutral  \n",
       "11           Neutral  "
      ]
     },
     "execution_count": 48,
     "metadata": {},
     "output_type": "execute_result"
    }
   ],
   "source": [
    "final_result_dt=tweets.copy()\n",
    "final_result_dt['true_emotion']=true_emo\n",
    "final_result_dt['result']=tweet_pred\n",
    "final_result_dt=final_result_dt.rename(columns={0:\"text\"})\n",
    "final_result_dt=final_result_dt.rename(columns={\"result\":\"predicted_emotion\"})\n",
    "final_result_dt=final_result_dt.rename(columns={\"true_emotion\":\"actual_emotion\"})\n",
    "final_result_dt=final_result_dt.replace({0: 'Angry', 1: 'Happy', 2: 'Neutral', 3: 'Sad'})\n",
    "final_result_dt"
   ]
  },
  {
   "cell_type": "code",
   "execution_count": 49,
   "id": "1a10a715",
   "metadata": {},
   "outputs": [],
   "source": [
    "#Sample Dataset Accuracy"
   ]
  },
  {
   "cell_type": "code",
   "execution_count": 50,
   "id": "81be56c2",
   "metadata": {},
   "outputs": [
    {
     "name": "stdout",
     "output_type": "stream",
     "text": [
      "Accuracy obtained in sample dataset:  0.5833333333333334\n"
     ]
    }
   ],
   "source": [
    "c=0\n",
    "for i in range(len(final_result['text'])):\n",
    "    if final_result['predicted_emotion'][i]==final_result['actual_emotion'][i]:\n",
    "        c+=1\n",
    "print(\"Accuracy obtained in sample dataset: \",c/len(final_result['text']))"
   ]
  },
  {
   "cell_type": "code",
   "execution_count": 51,
   "id": "e52704cf",
   "metadata": {},
   "outputs": [],
   "source": [
    "#F1 Score for DT model:"
   ]
  },
  {
   "cell_type": "code",
   "execution_count": 52,
   "id": "0be29513",
   "metadata": {},
   "outputs": [
    {
     "name": "stdout",
     "output_type": "stream",
     "text": [
      "F1 score: 0.8167679138073874\n"
     ]
    }
   ],
   "source": [
    "print('F1 score:', f1_score(y_test,y_dt_test, average=\"macro\"))"
   ]
  },
  {
   "cell_type": "code",
   "execution_count": 53,
   "id": "e5975c9a",
   "metadata": {},
   "outputs": [],
   "source": [
    "#Classification Report for DT model:"
   ]
  },
  {
   "cell_type": "code",
   "execution_count": 54,
   "id": "f315a66d",
   "metadata": {},
   "outputs": [
    {
     "name": "stdout",
     "output_type": "stream",
     "text": [
      "              precision    recall  f1-score   support\n",
      "\n",
      "           0       0.92      0.73      0.81        74\n",
      "           1       0.86      0.77      0.81        78\n",
      "           2       0.67      0.90      0.77        83\n",
      "           3       0.91      0.84      0.88        75\n",
      "\n",
      "    accuracy                           0.81       310\n",
      "   macro avg       0.84      0.81      0.82       310\n",
      "weighted avg       0.83      0.81      0.82       310\n",
      "\n"
     ]
    }
   ],
   "source": [
    "print(classification_report(y_test, y_dt_test))"
   ]
  },
  {
   "cell_type": "code",
   "execution_count": 55,
   "id": "e1e53102",
   "metadata": {},
   "outputs": [],
   "source": [
    "#Saving decision tree classifier model to disk:"
   ]
  },
  {
   "cell_type": "code",
   "execution_count": 56,
   "id": "5d442a40",
   "metadata": {},
   "outputs": [],
   "source": [
    "pickle.dump(dt, open('dt_model.sav', 'wb'))"
   ]
  },
  {
   "cell_type": "code",
   "execution_count": 57,
   "id": "dab11d29",
   "metadata": {},
   "outputs": [],
   "source": [
    "#Predicting Emotions using models trained:"
   ]
  },
  {
   "cell_type": "code",
   "execution_count": 58,
   "id": "52be1e09",
   "metadata": {},
   "outputs": [],
   "source": [
    "def predictEmotionUsingMLR(input_txt):\n",
    "    in_txt=pd.DataFrame([input_txt])\n",
    "    txt_count=vect.transform(in_txt[0])\n",
    "    loaded_mlr_model = pickle.load(open('mlr_model.sav', 'rb'))\n",
    "    txt_pred_mlr=loaded_mlr_model.predict(txt_count)\n",
    "    return txt_pred_mlr\n",
    "    \n",
    "def predictEmotionUsingDT(input_txt):\n",
    "    in_txt=pd.DataFrame([input_txt])\n",
    "    txt_count=vect.transform(in_txt[0])\n",
    "    loaded_dt_model = pickle.load(open('dt_model.sav', 'rb'))\n",
    "    txt_pred_dt=loaded_dt_model.predict(txt_count)\n",
    "    return txt_pred_dt\n",
    "    \n",
    "def callingMLR(ttt):\n",
    "    output_txt_mlr=predictEmotionUsingMLR(ttt)\n",
    "    \n",
    "    if output_txt_mlr==0:\n",
    "        return \"Angry\"\n",
    "    elif output_txt_mlr==1:\n",
    "        return \"Happy\"\n",
    "    elif output_txt_mlr==2:\n",
    "        \n",
    "        return \"Neutral\"\n",
    "    elif output_txt_mlr==3:\n",
    "        return \"Sad\"\n",
    "    else:\n",
    "        return \"Oops! No emotion identified.\"\n",
    "\n",
    "    \n",
    "def callingDT(ttt):\n",
    "    \n",
    "    output_txt_dt=predictEmotionUsingDT(ttt)\n",
    "    \n",
    "    if output_txt_dt==0:\n",
    "        return \"Angry\"\n",
    "    elif output_txt_dt==1:\n",
    "        return \"Happy\"\n",
    "    elif output_txt_dt==2:\n",
    "        \n",
    "        return \"Neutral\"\n",
    "    elif output_txt_dt==3:\n",
    "        return \"Sad\"\n",
    "    else:\n",
    "        return \"Oops! No emotion identified.\""
   ]
  },
  {
   "cell_type": "code",
   "execution_count": 59,
   "id": "301cbed1",
   "metadata": {},
   "outputs": [],
   "source": [
    "#Kannada Text to Speech with Pitch Shifting"
   ]
  },
  {
   "cell_type": "code",
   "execution_count": 60,
   "id": "42f88b42",
   "metadata": {},
   "outputs": [
    {
     "name": "stdout",
     "output_type": "stream",
     "text": [
      "Requirement already satisfied: gtts in c:\\users\\chethana\\anaconda3\\lib\\site-packages (2.5.3)\n",
      "Requirement already satisfied: requests<3,>=2.27 in c:\\users\\chethana\\anaconda3\\lib\\site-packages (from gtts) (2.28.1)\n",
      "Requirement already satisfied: click<8.2,>=7.1 in c:\\users\\chethana\\anaconda3\\lib\\site-packages (from gtts) (8.0.4)\n",
      "Requirement already satisfied: colorama in c:\\users\\chethana\\anaconda3\\lib\\site-packages (from click<8.2,>=7.1->gtts) (0.4.5)\n",
      "Requirement already satisfied: charset-normalizer<3,>=2 in c:\\users\\chethana\\anaconda3\\lib\\site-packages (from requests<3,>=2.27->gtts) (2.0.4)\n",
      "Requirement already satisfied: urllib3<1.27,>=1.21.1 in c:\\users\\chethana\\anaconda3\\lib\\site-packages (from requests<3,>=2.27->gtts) (1.26.11)\n",
      "Requirement already satisfied: idna<4,>=2.5 in c:\\users\\chethana\\anaconda3\\lib\\site-packages (from requests<3,>=2.27->gtts) (3.3)\n",
      "Requirement already satisfied: certifi>=2017.4.17 in c:\\users\\chethana\\anaconda3\\lib\\site-packages (from requests<3,>=2.27->gtts) (2022.9.14)\n",
      "Note: you may need to restart the kernel to use updated packages.\n"
     ]
    },
    {
     "name": "stderr",
     "output_type": "stream",
     "text": [
      "WARNING: Ignoring invalid distribution -umpy (c:\\users\\chethana\\anaconda3\\lib\\site-packages)\n",
      "WARNING: Ignoring invalid distribution -umpy (c:\\users\\chethana\\anaconda3\\lib\\site-packages)\n",
      "WARNING: Ignoring invalid distribution -umpy (c:\\users\\chethana\\anaconda3\\lib\\site-packages)\n",
      "WARNING: Ignoring invalid distribution -umpy (c:\\users\\chethana\\anaconda3\\lib\\site-packages)\n",
      "WARNING: Ignoring invalid distribution -umpy (c:\\users\\chethana\\anaconda3\\lib\\site-packages)\n",
      "WARNING: Ignoring invalid distribution -umpy (c:\\users\\chethana\\anaconda3\\lib\\site-packages)\n"
     ]
    }
   ],
   "source": [
    "pip install gtts"
   ]
  },
  {
   "cell_type": "code",
   "execution_count": 61,
   "id": "89aee726",
   "metadata": {},
   "outputs": [
    {
     "name": "stdout",
     "output_type": "stream",
     "text": [
      "Requirement already satisfied: pydub in c:\\users\\chethana\\anaconda3\\lib\\site-packages (0.25.1)\n",
      "Note: you may need to restart the kernel to use updated packages.\n"
     ]
    },
    {
     "name": "stderr",
     "output_type": "stream",
     "text": [
      "WARNING: Ignoring invalid distribution -umpy (c:\\users\\chethana\\anaconda3\\lib\\site-packages)\n",
      "WARNING: Ignoring invalid distribution -umpy (c:\\users\\chethana\\anaconda3\\lib\\site-packages)\n",
      "WARNING: Ignoring invalid distribution -umpy (c:\\users\\chethana\\anaconda3\\lib\\site-packages)\n",
      "WARNING: Ignoring invalid distribution -umpy (c:\\users\\chethana\\anaconda3\\lib\\site-packages)\n",
      "WARNING: Ignoring invalid distribution -umpy (c:\\users\\chethana\\anaconda3\\lib\\site-packages)\n",
      "WARNING: Ignoring invalid distribution -umpy (c:\\users\\chethana\\anaconda3\\lib\\site-packages)\n"
     ]
    }
   ],
   "source": [
    "pip install pydub"
   ]
  },
  {
   "cell_type": "code",
   "execution_count": 62,
   "id": "77602310",
   "metadata": {},
   "outputs": [],
   "source": [
    "#importing necessary libraries"
   ]
  },
  {
   "cell_type": "code",
   "execution_count": 63,
   "id": "61a45229",
   "metadata": {},
   "outputs": [],
   "source": [
    "from gtts import gTTS\n",
    "from pydub import AudioSegment\n",
    "from pydub.playback import play"
   ]
  },
  {
   "cell_type": "code",
   "execution_count": 64,
   "id": "4e6fb81c",
   "metadata": {},
   "outputs": [],
   "source": [
    "#Default Text To Speech and pitch shifting"
   ]
  },
  {
   "cell_type": "code",
   "execution_count": 65,
   "id": "52e0c7ef",
   "metadata": {},
   "outputs": [],
   "source": [
    "#mytext=input(\"Enter Kannada Text: \")\n",
    "def saveMp3(mytext):\n",
    "    language='kn'\n",
    "    ktts = gTTS(text=mytext, lang=language, slow=False)\n",
    "    ktts.save(\"output.mp3\")\n",
    "\n",
    "  #Pitch shifting of output.mp3\n",
    "    from numpy.random import uniform\n",
    "    filename = 'output.mp3'\n",
    "    sound = AudioSegment.from_file(filename, format=filename[-3:])\n",
    "\n",
    "    octaves = 1\n",
    "    for octaves in np.linspace(-0.5,0.5,10):\n",
    "        new_sample_rate = int(sound.frame_rate * (2.0 ** octaves))\n",
    "        hipitch_sound = sound._spawn(sound.raw_data, overrides={'frame_rate': new_sample_rate})\n",
    "        hipitch_sound = hipitch_sound.set_frame_rate(44100)\n",
    "      #export / save pitch changed sound\n",
    "        hipitch_sound.export(f\"ttsf_{octaves}.wav\", format=\"wav\")\n",
    "\n",
    "\n",
    "def playPitch(emo):\n",
    "\n",
    "    if emo=='Angry':\n",
    "        return \"Play -0.277.wav for anger.\"\n",
    "    #play('/content/ttsf_-0.2777777777777778.wav',slow=False)  #speed must be changed to fast\n",
    "    elif emo=='Happy':\n",
    "        return \"Play 0.5.wav for happy.\"\n",
    "    #play('/content/ttsf_0.5.wav') #sounds happy :)\n",
    "    elif emo=='Neutral':\n",
    "        return \"Play output.mp3 for neutral.\"\n",
    "    #play('/content/output.mp3') #is neutral\n",
    "    else:\n",
    "        return \"Play -0.277.wav for sad.\"\n",
    "    #play('/content/ttsf_-0.2777777777777778.wav') #yeah sounds sad :(\n"
   ]
  },
  {
   "cell_type": "code",
   "execution_count": 66,
   "id": "ab60bd44",
   "metadata": {},
   "outputs": [],
   "source": [
    "#TTS in Kannada with Emotions"
   ]
  },
  {
   "cell_type": "code",
   "execution_count": 68,
   "id": "ba709755",
   "metadata": {},
   "outputs": [
    {
     "name": "stdout",
     "output_type": "stream",
     "text": [
      "Enter Kannada Text:ಕ್ಯಾಬ್ ಚಾಲಕ ನನ್ನನ್ನು ನಿಂದಿಸಿದ\n",
      "\n",
      "\n",
      "Results using Multinomial Logistic Regression:\n",
      "Emotion identified using MLR:  Neutral\n",
      "Play output.mp3 for neutral. \n",
      "\n",
      "Results using Decision Tree Classifier:\n",
      "Emotion identified using DT:  Happy\n",
      "Play 0.5.wav for happy. \n",
      "\n"
     ]
    }
   ],
   "source": [
    "def mainTTS():\n",
    "    ttt=input(\"Enter Kannada Text:\")\n",
    "    print(\"\\n\")\n",
    "    mlr_output=callingMLR(ttt)\n",
    "    dt_output=callingDT(ttt)\n",
    "    saveMp3(ttt)\n",
    "    speech_output_mlr=playPitch(mlr_output)\n",
    "    speech_output_dt=playPitch(dt_output)\n",
    "  \n",
    "    print(\"Results using Multinomial Logistic Regression:\",)\n",
    "    print(\"Emotion identified using MLR: \",mlr_output)\n",
    "    print(speech_output_mlr,\"\\n\")\n",
    "\n",
    "    print(\"Results using Decision Tree Classifier:\")\n",
    "    print(\"Emotion identified using DT: \",dt_output)\n",
    "    print(speech_output_dt,\"\\n\")\n",
    "\n",
    "\n",
    "mainTTS() #calling the main function"
   ]
  },
  {
   "cell_type": "code",
   "execution_count": null,
   "id": "1d9ce216",
   "metadata": {},
   "outputs": [],
   "source": []
  },
  {
   "cell_type": "code",
   "execution_count": null,
   "id": "acadebce",
   "metadata": {},
   "outputs": [],
   "source": []
  },
  {
   "cell_type": "code",
   "execution_count": null,
   "id": "0dfe71ab",
   "metadata": {},
   "outputs": [],
   "source": []
  }
 ],
 "metadata": {
  "kernelspec": {
   "display_name": "Python 3 (ipykernel)",
   "language": "python",
   "name": "python3"
  },
  "language_info": {
   "codemirror_mode": {
    "name": "ipython",
    "version": 3
   },
   "file_extension": ".py",
   "mimetype": "text/x-python",
   "name": "python",
   "nbconvert_exporter": "python",
   "pygments_lexer": "ipython3",
   "version": "3.9.13"
  }
 },
 "nbformat": 4,
 "nbformat_minor": 5
}
